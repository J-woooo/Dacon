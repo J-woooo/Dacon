{
 "cells": [
  {
   "cell_type": "code",
   "execution_count": 4,
   "metadata": {
    "id": "0s6_PN-jVaSR"
   },
   "outputs": [],
   "source": [
    "import numpy as np\r\n",
    "from numpy import concatenate\r\n",
    "import pandas as pd\r\n",
    "import tensorflow as tf\r\n",
    "import keras\r\n",
    "import math\r\n",
    "import seaborn as sns\r\n",
    "import matplotlib.pyplot as plt\r\n",
    "import itertools\r\n",
    "import statsmodels.api as sm\r\n",
    "import warnings\r\n",
    "from plotly.offline import init_notebook_mode, iplot"
   ]
  },
  {
   "cell_type": "code",
   "execution_count": 7,
   "metadata": {
    "id": "pAMjo943WJf9"
   },
   "outputs": [],
   "source": [
    "solar_data = pd.read_csv('./data/train/train.csv',encoding='utf-8')"
   ]
  },
  {
   "cell_type": "code",
   "execution_count": 8,
   "metadata": {
    "colab": {
     "base_uri": "https://localhost:8080/",
     "height": 283
    },
    "id": "o_WVHZFiWK4R",
    "outputId": "5b42b586-1dfa-46a7-d632-9660e1305879"
   },
   "outputs": [
    {
     "data": {
      "image/png": "[encoded data removed]",
      "text/plain": [
       "<Figure size 432x288 with 1 Axes>"
      ]
     },
     "metadata": {
      "needs_background": "light"
     },
     "output_type": "display_data"
    },
    {
     "name": "stdout",
     "output_type": "stream",
     "text": [
      "63 0.9451229383187134\n"
     ]
    }
   ],
   "source": [
    "corrList = []\r\n",
    "corr = lambda p : p['TARGET'].corr(p['GHI'])\r\n",
    "\r\n",
    "def makeCorrList(df):\r\n",
    "    result = corr(df)\r\n",
    "    corrList.append(result)\r\n",
    "\r\n",
    "for i in range(0,90):\r\n",
    "    solar_data['GHI'] = solar_data['DNI']*math.cos(math.pi/180*i)+solar_data['DHI']\r\n",
    "    makeCorrList(solar_data)\r\n",
    "\r\n",
    "x = np.arange(0,90)\r\n",
    "plt.plot(x,corrList)\r\n",
    "plt.show()\r\n",
    "\r\n",
    "print(corrList.index(max(corrList)), max(corrList))"
   ]
  },
  {
   "cell_type": "code",
   "execution_count": 9,
   "metadata": {
    "id": "X8GpfgzsWL9O"
   },
   "outputs": [],
   "source": [
    "solar_data['GHI'] = solar_data['DNI']*math.cos(math.pi/180*63)+solar_data['DHI']"
   ]
  },
  {
   "cell_type": "code",
   "execution_count": 10,
   "metadata": {
    "id": "iGUMiiyWWNDa"
   },
   "outputs": [],
   "source": [
    "def eval_dewpoint(T, RH):\r\n",
    "    b = 17.62\r\n",
    "    c = 243.12\r\n",
    "    gamma = (b * T / (c + T)) + math.log(RH / 100.0)\r\n",
    "    dewpoint = (c * gamma) / (b - gamma)\r\n",
    "    return dewpoint"
   ]
  },
  {
   "cell_type": "code",
   "execution_count": 11,
   "metadata": {
    "id": "5qoFPxoTWOOl"
   },
   "outputs": [],
   "source": [
    "for i in range(len(solar_data)):\r\n",
    "    solar_data.loc[i, [\"DP\"]] = eval_dewpoint(float(solar_data.loc[i, [\"T\"]]), solar_data.loc[i , [\"RH\"]])"
   ]
  },
  {
   "cell_type": "code",
   "execution_count": 12,
   "metadata": {
    "id": "HWKwfzCqWPNe"
   },
   "outputs": [],
   "source": [
    "solar_data = solar_data.reindex(columns=[\"Day\", \"Hour\", \"Minute\", \"GHI\", \"DHI\", \"DNI\", \"WS\", \"RH\", \"T\", \"DP\", \"TARGET\"])"
   ]
  },
  {
   "cell_type": "code",
   "execution_count": 13,
   "metadata": {
    "id": "hHPxYgq2WRwB"
   },
   "outputs": [],
   "source": [
    "solar_data.drop(['Day', 'Hour','Minute'], axis='columns', inplace=True)"
   ]
  },
  {
   "cell_type": "code",
   "execution_count": 14,
   "metadata": {
    "colab": {
     "base_uri": "https://localhost:8080/",
     "height": 419
    },
    "id": "O2wjSee7WUlw",
    "outputId": "41fd7389-d338-4e00-b168-dedcad6f4436"
   },
   "outputs": [
    {
     "data": {
      "text/html": [
       "<div>\n",
       "<style scoped>\n",
       "    .dataframe tbody tr th:only-of-type {\n",
       "        vertical-align: middle;\n",
       "    }\n",
       "\n",
       "    .dataframe tbody tr th {\n",
       "        vertical-align: top;\n",
       "    }\n",
       "\n",
       "    .dataframe thead th {\n",
       "        text-align: right;\n",
       "    }\n",
       "</style>\n",
       "<table border=\"1\" class=\"dataframe\">\n",
       "  <thead>\n",
       "    <tr style=\"text-align: right;\">\n",
       "      <th></th>\n",
       "      <th>GHI</th>\n",
       "      <th>DHI</th>\n",
       "      <th>DNI</th>\n",
       "      <th>WS</th>\n",
       "      <th>RH</th>\n",
       "      <th>T</th>\n",
       "      <th>DP</th>\n",
       "      <th>TARGET</th>\n",
       "    </tr>\n",
       "  </thead>\n",
       "  <tbody>\n",
       "    <tr>\n",
       "      <th>0</th>\n",
       "      <td>0.0</td>\n",
       "      <td>0</td>\n",
       "      <td>0</td>\n",
       "      <td>1.5</td>\n",
       "      <td>69.08</td>\n",
       "      <td>-12</td>\n",
       "      <td>-16.522271</td>\n",
       "      <td>0.0</td>\n",
       "    </tr>\n",
       "    <tr>\n",
       "      <th>1</th>\n",
       "      <td>0.0</td>\n",
       "      <td>0</td>\n",
       "      <td>0</td>\n",
       "      <td>1.5</td>\n",
       "      <td>69.06</td>\n",
       "      <td>-12</td>\n",
       "      <td>-16.525742</td>\n",
       "      <td>0.0</td>\n",
       "    </tr>\n",
       "    <tr>\n",
       "      <th>2</th>\n",
       "      <td>0.0</td>\n",
       "      <td>0</td>\n",
       "      <td>0</td>\n",
       "      <td>1.6</td>\n",
       "      <td>71.78</td>\n",
       "      <td>-12</td>\n",
       "      <td>-16.061776</td>\n",
       "      <td>0.0</td>\n",
       "    </tr>\n",
       "    <tr>\n",
       "      <th>3</th>\n",
       "      <td>0.0</td>\n",
       "      <td>0</td>\n",
       "      <td>0</td>\n",
       "      <td>1.6</td>\n",
       "      <td>71.75</td>\n",
       "      <td>-12</td>\n",
       "      <td>-16.066807</td>\n",
       "      <td>0.0</td>\n",
       "    </tr>\n",
       "    <tr>\n",
       "      <th>4</th>\n",
       "      <td>0.0</td>\n",
       "      <td>0</td>\n",
       "      <td>0</td>\n",
       "      <td>1.6</td>\n",
       "      <td>75.20</td>\n",
       "      <td>-12</td>\n",
       "      <td>-15.500215</td>\n",
       "      <td>0.0</td>\n",
       "    </tr>\n",
       "    <tr>\n",
       "      <th>...</th>\n",
       "      <td>...</td>\n",
       "      <td>...</td>\n",
       "      <td>...</td>\n",
       "      <td>...</td>\n",
       "      <td>...</td>\n",
       "      <td>...</td>\n",
       "      <td>...</td>\n",
       "      <td>...</td>\n",
       "    </tr>\n",
       "    <tr>\n",
       "      <th>52555</th>\n",
       "      <td>0.0</td>\n",
       "      <td>0</td>\n",
       "      <td>0</td>\n",
       "      <td>2.4</td>\n",
       "      <td>70.70</td>\n",
       "      <td>-4</td>\n",
       "      <td>-8.540093</td>\n",
       "      <td>0.0</td>\n",
       "    </tr>\n",
       "    <tr>\n",
       "      <th>52556</th>\n",
       "      <td>0.0</td>\n",
       "      <td>0</td>\n",
       "      <td>0</td>\n",
       "      <td>2.4</td>\n",
       "      <td>66.79</td>\n",
       "      <td>-4</td>\n",
       "      <td>-9.268639</td>\n",
       "      <td>0.0</td>\n",
       "    </tr>\n",
       "    <tr>\n",
       "      <th>52557</th>\n",
       "      <td>0.0</td>\n",
       "      <td>0</td>\n",
       "      <td>0</td>\n",
       "      <td>2.2</td>\n",
       "      <td>66.78</td>\n",
       "      <td>-4</td>\n",
       "      <td>-9.270551</td>\n",
       "      <td>0.0</td>\n",
       "    </tr>\n",
       "    <tr>\n",
       "      <th>52558</th>\n",
       "      <td>0.0</td>\n",
       "      <td>0</td>\n",
       "      <td>0</td>\n",
       "      <td>2.1</td>\n",
       "      <td>67.72</td>\n",
       "      <td>-4</td>\n",
       "      <td>-9.091976</td>\n",
       "      <td>0.0</td>\n",
       "    </tr>\n",
       "    <tr>\n",
       "      <th>52559</th>\n",
       "      <td>0.0</td>\n",
       "      <td>0</td>\n",
       "      <td>0</td>\n",
       "      <td>2.1</td>\n",
       "      <td>67.70</td>\n",
       "      <td>-4</td>\n",
       "      <td>-9.095752</td>\n",
       "      <td>0.0</td>\n",
       "    </tr>\n",
       "  </tbody>\n",
       "</table>\n",
       "<p>52560 rows × 8 columns</p>\n",
       "</div>"
      ],
      "text/plain": [
       "       GHI  DHI  DNI   WS     RH   T         DP  TARGET\n",
       "0      0.0    0    0  1.5  69.08 -12 -16.522271     0.0\n",
       "1      0.0    0    0  1.5  69.06 -12 -16.525742     0.0\n",
       "2      0.0    0    0  1.6  71.78 -12 -16.061776     0.0\n",
       "3      0.0    0    0  1.6  71.75 -12 -16.066807     0.0\n",
       "4      0.0    0    0  1.6  75.20 -12 -15.500215     0.0\n",
       "...    ...  ...  ...  ...    ...  ..        ...     ...\n",
       "52555  0.0    0    0  2.4  70.70  -4  -8.540093     0.0\n",
       "52556  0.0    0    0  2.4  66.79  -4  -9.268639     0.0\n",
       "52557  0.0    0    0  2.2  66.78  -4  -9.270551     0.0\n",
       "52558  0.0    0    0  2.1  67.72  -4  -9.091976     0.0\n",
       "52559  0.0    0    0  2.1  67.70  -4  -9.095752     0.0\n",
       "\n",
       "[52560 rows x 8 columns]"
      ]
     },
     "execution_count": 14,
     "metadata": {},
     "output_type": "execute_result"
    }
   ],
   "source": [
    "train = solar_data\r\n",
    "train"
   ]
  },
  {
   "cell_type": "code",
   "execution_count": 39,
   "metadata": {},
   "outputs": [],
   "source": [
    "def get_sarima_params(train_data,train_exog):\n",
    "    p=d=q=range(0,2)\n",
    "    pdq = list(itertools.product(p,d,q))\n",
    "    seasonal_pdq = [(x[0],x[1],x[2],48) for x in list(itertools.product(p,d,q))]\n",
    "    result_table = pd.DataFrame(columns=['pda','seasonal_pda','aic'])\n",
    "    \n",
    "    for param in pdq:\n",
    "        for param_seasonal in seasonal_pdq:\n",
    "                print(param,param_seasonal,'testing')\n",
    "                mod = sm.tsa.statespace.SARIMAX(train_data,exog=train_exog,order=param,seasonal_order=param_seasonal,enforce_stationarity=False,enforce_invertibility=False)\n",
    "                results = mod.fit()\n",
    "                result_table = result_table.append({'pda':param, 'seasonal_pda':param_seasonal,'aic':results.aic},ignore_index=True)\n",
    "    optimal_params = result_table[result_table['aic']==result_table.aic.min()]\n",
    "    order = optimal_params.pda.values[0]\n",
    "    seasonal_order = optimal_params.seasonal_pda.values[0]\n",
    "    return (order,seasonal_order)"
   ]
  },
  {
   "cell_type": "code",
   "execution_count": null,
   "metadata": {},
   "outputs": [
    {
     "name": "stdout",
     "output_type": "stream",
     "text": [
      "(0, 0, 0) (0, 0, 0, 48) testing\n",
      "(0, 0, 0) (0, 0, 1, 48) testing\n"
     ]
    }
   ],
   "source": [
    "with warnings.catch_warnings():\n",
    "    warnings.simplefilter(\"ignore\")\n",
    "    \n",
    "    train_data = pd.DataFrame(train['TARGET'])\n",
    "    train_exog = train.loc[:,[\"GHI\", \"DHI\", \"DNI\", \"WS\", \"RH\", \"T\", \"DP\"]]\n",
    "    order, seasonal_arder = get_sarima_params(train_data,train_exog)\n",
    "    print(order,seasonal_order)\n",
    "    \n",
    "    mod = sm.tsa.statespace.SARIMAX(train_data,exog=train_exog,order=order,seasonal_order=seasonal_order)\n",
    "    results = mod.fit()\n",
    "    pred=results.get_prediction(start=train_data.index[0],end=train_data.index[-1],exog=train_exog,dynamic=True)\n",
    "    train_forecast=pred.predicted_mean.round()\n",
    "    train_forecast[train_forecast<0]=0"
   ]
  },
  {
   "cell_type": "code",
   "execution_count": 50,
   "metadata": {
    "id": "K4XP4JECYKxU"
   },
   "outputs": [
    {
     "data": {
      "text/plain": [
       "[<matplotlib.lines.Line2D at 0x199afce79c8>]"
      ]
     },
     "execution_count": 50,
     "metadata": {},
     "output_type": "execute_result"
    },
    {
     "data": {
      "image/png": "[encoded data removed]",
      "text/plain": [
       "<Figure size 432x288 with 1 Axes>"
      ]
     },
     "metadata": {
      "needs_background": "light"
     },
     "output_type": "display_data"
    }
   ],
   "source": []
  },
  {
   "cell_type": "code",
   "execution_count": null,
   "metadata": {
    "id": "qXh46qy1ZrZ5"
   },
   "outputs": [],
   "source": [
    "results.summary()"
   ]
  },
  {
   "cell_type": "code",
   "execution_count": null,
   "metadata": {},
   "outputs": [],
   "source": []
  }
 ],
 "metadata": {
  "colab": {
   "name": "kingkingkingsolarbeam.ipynb",
   "provenance": []
  },
  "kernelspec": {
   "display_name": "Python 3",
   "language": "python",
   "name": "python3"
  },
  "language_info": {
   "codemirror_mode": {
    "name": "ipython",
    "version": 3
   },
   "file_extension": ".py",
   "mimetype": "text/x-python",
   "name": "python",
   "nbconvert_exporter": "python",
   "pygments_lexer": "ipython3",
   "version": "3.7.6"
  }
 },
 "nbformat": 4,
 "nbformat_minor": 4
}
