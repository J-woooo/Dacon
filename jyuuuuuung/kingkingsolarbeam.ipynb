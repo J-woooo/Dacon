{
  "nbformat": 4,
  "nbformat_minor": 0,
  "metadata": {
    "accelerator": "GPU",
    "colab": {
      "name": "kingkingsolarbeam.ipynb",
      "provenance": [],
      "machine_shape": "hm"
    },
    "kernelspec": {
      "display_name": "Python 3",
      "name": "python3"
    },
    "widgets": {
      "application/vnd.jupyter.widget-state+json": {
        "07c4564512a641a4ba9a44da0152f15f": {
          "model_module": "@jupyter-widgets/controls",
          "model_name": "HBoxModel",
          "state": {
            "_view_name": "HBoxView",
            "_dom_classes": [],
            "_model_name": "HBoxModel",
            "_view_module": "@jupyter-widgets/controls",
            "_model_module_version": "1.5.0",
            "_view_count": null,
            "_view_module_version": "1.5.0",
            "box_style": "",
            "layout": "IPY_MODEL_96b4294b8d0c4b2d981d2f70261d2813",
            "_model_module": "@jupyter-widgets/controls",
            "children": [
              "IPY_MODEL_105511f055fa44e8b0c05eb9232b1307",
              "IPY_MODEL_785b90cb0bb343f8b3f54b2ce968f77c"
            ]
          }
        },
        "96b4294b8d0c4b2d981d2f70261d2813": {
          "model_module": "@jupyter-widgets/base",
          "model_name": "LayoutModel",
          "state": {
            "_view_name": "LayoutView",
            "grid_template_rows": null,
            "right": null,
            "justify_content": null,
            "_view_module": "@jupyter-widgets/base",
            "overflow": null,
            "_model_module_version": "1.2.0",
            "_view_count": null,
            "flex_flow": null,
            "width": null,
            "min_width": null,
            "border": null,
            "align_items": null,
            "bottom": null,
            "_model_module": "@jupyter-widgets/base",
            "top": null,
            "grid_column": null,
            "overflow_y": null,
            "overflow_x": null,
            "grid_auto_flow": null,
            "grid_area": null,
            "grid_template_columns": null,
            "flex": null,
            "_model_name": "LayoutModel",
            "justify_items": null,
            "grid_row": null,
            "max_height": null,
            "align_content": null,
            "visibility": null,
            "align_self": null,
            "height": null,
            "min_height": null,
            "padding": null,
            "grid_auto_rows": null,
            "grid_gap": null,
            "max_width": null,
            "order": null,
            "_view_module_version": "1.2.0",
            "grid_template_areas": null,
            "object_position": null,
            "object_fit": null,
            "grid_auto_columns": null,
            "margin": null,
            "display": null,
            "left": null
          }
        },
        "105511f055fa44e8b0c05eb9232b1307": {
          "model_module": "@jupyter-widgets/controls",
          "model_name": "FloatProgressModel",
          "state": {
            "_view_name": "ProgressView",
            "style": "IPY_MODEL_9e11402384704d82a33794774c4c6f0f",
            "_dom_classes": [],
            "description": "100%",
            "_model_name": "FloatProgressModel",
            "bar_style": "success",
            "max": 7,
            "_view_module": "@jupyter-widgets/controls",
            "_model_module_version": "1.5.0",
            "value": 7,
            "_view_count": null,
            "_view_module_version": "1.5.0",
            "orientation": "horizontal",
            "min": 0,
            "description_tooltip": null,
            "_model_module": "@jupyter-widgets/controls",
            "layout": "IPY_MODEL_dfec6327655e4e118e2ea80262e644fe"
          }
        },
        "785b90cb0bb343f8b3f54b2ce968f77c": {
          "model_module": "@jupyter-widgets/controls",
          "model_name": "HTMLModel",
          "state": {
            "_view_name": "HTMLView",
            "style": "IPY_MODEL_7e60c5aa53974d7980aed5812a06a558",
            "_dom_classes": [],
            "description": "",
            "_model_name": "HTMLModel",
            "placeholder": "​",
            "_view_module": "@jupyter-widgets/controls",
            "_model_module_version": "1.5.0",
            "value": " 7/7 [1:48:20&lt;00:00, 928.65s/it]",
            "_view_count": null,
            "_view_module_version": "1.5.0",
            "description_tooltip": null,
            "_model_module": "@jupyter-widgets/controls",
            "layout": "IPY_MODEL_6e107d09afd948b29b7af0e62312303b"
          }
        },
        "9e11402384704d82a33794774c4c6f0f": {
          "model_module": "@jupyter-widgets/controls",
          "model_name": "ProgressStyleModel",
          "state": {
            "_view_name": "StyleView",
            "_model_name": "ProgressStyleModel",
            "description_width": "initial",
            "_view_module": "@jupyter-widgets/base",
            "_model_module_version": "1.5.0",
            "_view_count": null,
            "_view_module_version": "1.2.0",
            "bar_color": null,
            "_model_module": "@jupyter-widgets/controls"
          }
        },
        "dfec6327655e4e118e2ea80262e644fe": {
          "model_module": "@jupyter-widgets/base",
          "model_name": "LayoutModel",
          "state": {
            "_view_name": "LayoutView",
            "grid_template_rows": null,
            "right": null,
            "justify_content": null,
            "_view_module": "@jupyter-widgets/base",
            "overflow": null,
            "_model_module_version": "1.2.0",
            "_view_count": null,
            "flex_flow": null,
            "width": null,
            "min_width": null,
            "border": null,
            "align_items": null,
            "bottom": null,
            "_model_module": "@jupyter-widgets/base",
            "top": null,
            "grid_column": null,
            "overflow_y": null,
            "overflow_x": null,
            "grid_auto_flow": null,
            "grid_area": null,
            "grid_template_columns": null,
            "flex": null,
            "_model_name": "LayoutModel",
            "justify_items": null,
            "grid_row": null,
            "max_height": null,
            "align_content": null,
            "visibility": null,
            "align_self": null,
            "height": null,
            "min_height": null,
            "padding": null,
            "grid_auto_rows": null,
            "grid_gap": null,
            "max_width": null,
            "order": null,
            "_view_module_version": "1.2.0",
            "grid_template_areas": null,
            "object_position": null,
            "object_fit": null,
            "grid_auto_columns": null,
            "margin": null,
            "display": null,
            "left": null
          }
        },
        "7e60c5aa53974d7980aed5812a06a558": {
          "model_module": "@jupyter-widgets/controls",
          "model_name": "DescriptionStyleModel",
          "state": {
            "_view_name": "StyleView",
            "_model_name": "DescriptionStyleModel",
            "description_width": "",
            "_view_module": "@jupyter-widgets/base",
            "_model_module_version": "1.5.0",
            "_view_count": null,
            "_view_module_version": "1.2.0",
            "_model_module": "@jupyter-widgets/controls"
          }
        },
        "6e107d09afd948b29b7af0e62312303b": {
          "model_module": "@jupyter-widgets/base",
          "model_name": "LayoutModel",
          "state": {
            "_view_name": "LayoutView",
            "grid_template_rows": null,
            "right": null,
            "justify_content": null,
            "_view_module": "@jupyter-widgets/base",
            "overflow": null,
            "_model_module_version": "1.2.0",
            "_view_count": null,
            "flex_flow": null,
            "width": null,
            "min_width": null,
            "border": null,
            "align_items": null,
            "bottom": null,
            "_model_module": "@jupyter-widgets/base",
            "top": null,
            "grid_column": null,
            "overflow_y": null,
            "overflow_x": null,
            "grid_auto_flow": null,
            "grid_area": null,
            "grid_template_columns": null,
            "flex": null,
            "_model_name": "LayoutModel",
            "justify_items": null,
            "grid_row": null,
            "max_height": null,
            "align_content": null,
            "visibility": null,
            "align_self": null,
            "height": null,
            "min_height": null,
            "padding": null,
            "grid_auto_rows": null,
            "grid_gap": null,
            "max_width": null,
            "order": null,
            "_view_module_version": "1.2.0",
            "grid_template_areas": null,
            "object_position": null,
            "object_fit": null,
            "grid_auto_columns": null,
            "margin": null,
            "display": null,
            "left": null
          }
        },
        "6ae5330473bd461daa8334eb4c5a595a": {
          "model_module": "@jupyter-widgets/controls",
          "model_name": "HBoxModel",
          "state": {
            "_view_name": "HBoxView",
            "_dom_classes": [],
            "_model_name": "HBoxModel",
            "_view_module": "@jupyter-widgets/controls",
            "_model_module_version": "1.5.0",
            "_view_count": null,
            "_view_module_version": "1.5.0",
            "box_style": "",
            "layout": "IPY_MODEL_7e9286717f8e4df4b1e0aa895cec10ea",
            "_model_module": "@jupyter-widgets/controls",
            "children": [
              "IPY_MODEL_518b1b8806a64595b385c3449e319214",
              "IPY_MODEL_a5433e6adc1049f384e3576ba4fd2161"
            ]
          }
        },
        "7e9286717f8e4df4b1e0aa895cec10ea": {
          "model_module": "@jupyter-widgets/base",
          "model_name": "LayoutModel",
          "state": {
            "_view_name": "LayoutView",
            "grid_template_rows": null,
            "right": null,
            "justify_content": null,
            "_view_module": "@jupyter-widgets/base",
            "overflow": null,
            "_model_module_version": "1.2.0",
            "_view_count": null,
            "flex_flow": null,
            "width": null,
            "min_width": null,
            "border": null,
            "align_items": null,
            "bottom": null,
            "_model_module": "@jupyter-widgets/base",
            "top": null,
            "grid_column": null,
            "overflow_y": null,
            "overflow_x": null,
            "grid_auto_flow": null,
            "grid_area": null,
            "grid_template_columns": null,
            "flex": null,
            "_model_name": "LayoutModel",
            "justify_items": null,
            "grid_row": null,
            "max_height": null,
            "align_content": null,
            "visibility": null,
            "align_self": null,
            "height": null,
            "min_height": null,
            "padding": null,
            "grid_auto_rows": null,
            "grid_gap": null,
            "max_width": null,
            "order": null,
            "_view_module_version": "1.2.0",
            "grid_template_areas": null,
            "object_position": null,
            "object_fit": null,
            "grid_auto_columns": null,
            "margin": null,
            "display": null,
            "left": null
          }
        },
        "518b1b8806a64595b385c3449e319214": {
          "model_module": "@jupyter-widgets/controls",
          "model_name": "FloatProgressModel",
          "state": {
            "_view_name": "ProgressView",
            "style": "IPY_MODEL_aa5df18045144f889dca9088bde31faf",
            "_dom_classes": [],
            "description": "100%",
            "_model_name": "FloatProgressModel",
            "bar_style": "success",
            "max": 7,
            "_view_module": "@jupyter-widgets/controls",
            "_model_module_version": "1.5.0",
            "value": 7,
            "_view_count": null,
            "_view_module_version": "1.5.0",
            "orientation": "horizontal",
            "min": 0,
            "description_tooltip": null,
            "_model_module": "@jupyter-widgets/controls",
            "layout": "IPY_MODEL_15b1917a525e4c6a9f7dcf28e640deba"
          }
        },
        "a5433e6adc1049f384e3576ba4fd2161": {
          "model_module": "@jupyter-widgets/controls",
          "model_name": "HTMLModel",
          "state": {
            "_view_name": "HTMLView",
            "style": "IPY_MODEL_4510d5f394b440799fb23673945a4b6a",
            "_dom_classes": [],
            "description": "",
            "_model_name": "HTMLModel",
            "placeholder": "​",
            "_view_module": "@jupyter-widgets/controls",
            "_model_module_version": "1.5.0",
            "value": " 7/7 [49:34&lt;00:00, 424.90s/it]",
            "_view_count": null,
            "_view_module_version": "1.5.0",
            "description_tooltip": null,
            "_model_module": "@jupyter-widgets/controls",
            "layout": "IPY_MODEL_2a7f5c2466e549a6bafce45e598070cb"
          }
        },
        "aa5df18045144f889dca9088bde31faf": {
          "model_module": "@jupyter-widgets/controls",
          "model_name": "ProgressStyleModel",
          "state": {
            "_view_name": "StyleView",
            "_model_name": "ProgressStyleModel",
            "description_width": "initial",
            "_view_module": "@jupyter-widgets/base",
            "_model_module_version": "1.5.0",
            "_view_count": null,
            "_view_module_version": "1.2.0",
            "bar_color": null,
            "_model_module": "@jupyter-widgets/controls"
          }
        },
        "15b1917a525e4c6a9f7dcf28e640deba": {
          "model_module": "@jupyter-widgets/base",
          "model_name": "LayoutModel",
          "state": {
            "_view_name": "LayoutView",
            "grid_template_rows": null,
            "right": null,
            "justify_content": null,
            "_view_module": "@jupyter-widgets/base",
            "overflow": null,
            "_model_module_version": "1.2.0",
            "_view_count": null,
            "flex_flow": null,
            "width": null,
            "min_width": null,
            "border": null,
            "align_items": null,
            "bottom": null,
            "_model_module": "@jupyter-widgets/base",
            "top": null,
            "grid_column": null,
            "overflow_y": null,
            "overflow_x": null,
            "grid_auto_flow": null,
            "grid_area": null,
            "grid_template_columns": null,
            "flex": null,
            "_model_name": "LayoutModel",
            "justify_items": null,
            "grid_row": null,
            "max_height": null,
            "align_content": null,
            "visibility": null,
            "align_self": null,
            "height": null,
            "min_height": null,
            "padding": null,
            "grid_auto_rows": null,
            "grid_gap": null,
            "max_width": null,
            "order": null,
            "_view_module_version": "1.2.0",
            "grid_template_areas": null,
            "object_position": null,
            "object_fit": null,
            "grid_auto_columns": null,
            "margin": null,
            "display": null,
            "left": null
          }
        },
        "4510d5f394b440799fb23673945a4b6a": {
          "model_module": "@jupyter-widgets/controls",
          "model_name": "DescriptionStyleModel",
          "state": {
            "_view_name": "StyleView",
            "_model_name": "DescriptionStyleModel",
            "description_width": "",
            "_view_module": "@jupyter-widgets/base",
            "_model_module_version": "1.5.0",
            "_view_count": null,
            "_view_module_version": "1.2.0",
            "_model_module": "@jupyter-widgets/controls"
          }
        },
        "2a7f5c2466e549a6bafce45e598070cb": {
          "model_module": "@jupyter-widgets/base",
          "model_name": "LayoutModel",
          "state": {
            "_view_name": "LayoutView",
            "grid_template_rows": null,
            "right": null,
            "justify_content": null,
            "_view_module": "@jupyter-widgets/base",
            "overflow": null,
            "_model_module_version": "1.2.0",
            "_view_count": null,
            "flex_flow": null,
            "width": null,
            "min_width": null,
            "border": null,
            "align_items": null,
            "bottom": null,
            "_model_module": "@jupyter-widgets/base",
            "top": null,
            "grid_column": null,
            "overflow_y": null,
            "overflow_x": null,
            "grid_auto_flow": null,
            "grid_area": null,
            "grid_template_columns": null,
            "flex": null,
            "_model_name": "LayoutModel",
            "justify_items": null,
            "grid_row": null,
            "max_height": null,
            "align_content": null,
            "visibility": null,
            "align_self": null,
            "height": null,
            "min_height": null,
            "padding": null,
            "grid_auto_rows": null,
            "grid_gap": null,
            "max_width": null,
            "order": null,
            "_view_module_version": "1.2.0",
            "grid_template_areas": null,
            "object_position": null,
            "object_fit": null,
            "grid_auto_columns": null,
            "margin": null,
            "display": null,
            "left": null
          }
        },
        "9c396f8d42cc46549fd9b08b853fbd13": {
          "model_module": "@jupyter-widgets/controls",
          "model_name": "HBoxModel",
          "state": {
            "_view_name": "HBoxView",
            "_dom_classes": [],
            "_model_name": "HBoxModel",
            "_view_module": "@jupyter-widgets/controls",
            "_model_module_version": "1.5.0",
            "_view_count": null,
            "_view_module_version": "1.5.0",
            "box_style": "",
            "layout": "IPY_MODEL_0e1c7f2fc13a480188783c73bcf1aa08",
            "_model_module": "@jupyter-widgets/controls",
            "children": [
              "IPY_MODEL_384f1ba5bd3148c29bb351aa61293f4f",
              "IPY_MODEL_368d07531b474593940c8cbf62e743db"
            ]
          }
        },
        "0e1c7f2fc13a480188783c73bcf1aa08": {
          "model_module": "@jupyter-widgets/base",
          "model_name": "LayoutModel",
          "state": {
            "_view_name": "LayoutView",
            "grid_template_rows": null,
            "right": null,
            "justify_content": null,
            "_view_module": "@jupyter-widgets/base",
            "overflow": null,
            "_model_module_version": "1.2.0",
            "_view_count": null,
            "flex_flow": null,
            "width": null,
            "min_width": null,
            "border": null,
            "align_items": null,
            "bottom": null,
            "_model_module": "@jupyter-widgets/base",
            "top": null,
            "grid_column": null,
            "overflow_y": null,
            "overflow_x": null,
            "grid_auto_flow": null,
            "grid_area": null,
            "grid_template_columns": null,
            "flex": null,
            "_model_name": "LayoutModel",
            "justify_items": null,
            "grid_row": null,
            "max_height": null,
            "align_content": null,
            "visibility": null,
            "align_self": null,
            "height": null,
            "min_height": null,
            "padding": null,
            "grid_auto_rows": null,
            "grid_gap": null,
            "max_width": null,
            "order": null,
            "_view_module_version": "1.2.0",
            "grid_template_areas": null,
            "object_position": null,
            "object_fit": null,
            "grid_auto_columns": null,
            "margin": null,
            "display": null,
            "left": null
          }
        },
        "384f1ba5bd3148c29bb351aa61293f4f": {
          "model_module": "@jupyter-widgets/controls",
          "model_name": "FloatProgressModel",
          "state": {
            "_view_name": "ProgressView",
            "style": "IPY_MODEL_ae535c364f474fae848e8f5e564f868a",
            "_dom_classes": [],
            "description": "100%",
            "_model_name": "FloatProgressModel",
            "bar_style": "success",
            "max": 7,
            "_view_module": "@jupyter-widgets/controls",
            "_model_module_version": "1.5.0",
            "value": 7,
            "_view_count": null,
            "_view_module_version": "1.5.0",
            "orientation": "horizontal",
            "min": 0,
            "description_tooltip": null,
            "_model_module": "@jupyter-widgets/controls",
            "layout": "IPY_MODEL_9977707652fd46debef84d382c6e7da6"
          }
        },
        "368d07531b474593940c8cbf62e743db": {
          "model_module": "@jupyter-widgets/controls",
          "model_name": "HTMLModel",
          "state": {
            "_view_name": "HTMLView",
            "style": "IPY_MODEL_0979cb91bb0d498f850b8050981a9411",
            "_dom_classes": [],
            "description": "",
            "_model_name": "HTMLModel",
            "placeholder": "​",
            "_view_module": "@jupyter-widgets/controls",
            "_model_module_version": "1.5.0",
            "value": " 7/7 [1:55:32&lt;00:00, 990.43s/it]",
            "_view_count": null,
            "_view_module_version": "1.5.0",
            "description_tooltip": null,
            "_model_module": "@jupyter-widgets/controls",
            "layout": "IPY_MODEL_01c7a559cc9c41aa8e191979b7cd117c"
          }
        },
        "ae535c364f474fae848e8f5e564f868a": {
          "model_module": "@jupyter-widgets/controls",
          "model_name": "ProgressStyleModel",
          "state": {
            "_view_name": "StyleView",
            "_model_name": "ProgressStyleModel",
            "description_width": "initial",
            "_view_module": "@jupyter-widgets/base",
            "_model_module_version": "1.5.0",
            "_view_count": null,
            "_view_module_version": "1.2.0",
            "bar_color": null,
            "_model_module": "@jupyter-widgets/controls"
          }
        },
        "9977707652fd46debef84d382c6e7da6": {
          "model_module": "@jupyter-widgets/base",
          "model_name": "LayoutModel",
          "state": {
            "_view_name": "LayoutView",
            "grid_template_rows": null,
            "right": null,
            "justify_content": null,
            "_view_module": "@jupyter-widgets/base",
            "overflow": null,
            "_model_module_version": "1.2.0",
            "_view_count": null,
            "flex_flow": null,
            "width": null,
            "min_width": null,
            "border": null,
            "align_items": null,
            "bottom": null,
            "_model_module": "@jupyter-widgets/base",
            "top": null,
            "grid_column": null,
            "overflow_y": null,
            "overflow_x": null,
            "grid_auto_flow": null,
            "grid_area": null,
            "grid_template_columns": null,
            "flex": null,
            "_model_name": "LayoutModel",
            "justify_items": null,
            "grid_row": null,
            "max_height": null,
            "align_content": null,
            "visibility": null,
            "align_self": null,
            "height": null,
            "min_height": null,
            "padding": null,
            "grid_auto_rows": null,
            "grid_gap": null,
            "max_width": null,
            "order": null,
            "_view_module_version": "1.2.0",
            "grid_template_areas": null,
            "object_position": null,
            "object_fit": null,
            "grid_auto_columns": null,
            "margin": null,
            "display": null,
            "left": null
          }
        },
        "0979cb91bb0d498f850b8050981a9411": {
          "model_module": "@jupyter-widgets/controls",
          "model_name": "DescriptionStyleModel",
          "state": {
            "_view_name": "StyleView",
            "_model_name": "DescriptionStyleModel",
            "description_width": "",
            "_view_module": "@jupyter-widgets/base",
            "_model_module_version": "1.5.0",
            "_view_count": null,
            "_view_module_version": "1.2.0",
            "_model_module": "@jupyter-widgets/controls"
          }
        },
        "01c7a559cc9c41aa8e191979b7cd117c": {
          "model_module": "@jupyter-widgets/base",
          "model_name": "LayoutModel",
          "state": {
            "_view_name": "LayoutView",
            "grid_template_rows": null,
            "right": null,
            "justify_content": null,
            "_view_module": "@jupyter-widgets/base",
            "overflow": null,
            "_model_module_version": "1.2.0",
            "_view_count": null,
            "flex_flow": null,
            "width": null,
            "min_width": null,
            "border": null,
            "align_items": null,
            "bottom": null,
            "_model_module": "@jupyter-widgets/base",
            "top": null,
            "grid_column": null,
            "overflow_y": null,
            "overflow_x": null,
            "grid_auto_flow": null,
            "grid_area": null,
            "grid_template_columns": null,
            "flex": null,
            "_model_name": "LayoutModel",
            "justify_items": null,
            "grid_row": null,
            "max_height": null,
            "align_content": null,
            "visibility": null,
            "align_self": null,
            "height": null,
            "min_height": null,
            "padding": null,
            "grid_auto_rows": null,
            "grid_gap": null,
            "max_width": null,
            "order": null,
            "_view_module_version": "1.2.0",
            "grid_template_areas": null,
            "object_position": null,
            "object_fit": null,
            "grid_auto_columns": null,
            "margin": null,
            "display": null,
            "left": null
          }
        }
      }
    }
  },
  "cells": [
    {
      "cell_type": "code",
      "metadata": {
        "id": "nGDTDb1pzUOl"
      },
      "source": [
        "import numpy as np\r\n",
        "from numpy import concatenate\r\n",
        "import pandas as pd\r\n",
        "import tensorflow as tf\r\n",
        "import keras\r\n",
        "import math\r\n",
        "import seaborn as sns\r\n",
        "import matplotlib.pyplot as plt\r\n",
        "import itertools\r\n",
        "from sklearn import linear_model\r\n",
        "from sklearn.metrics import mean_squared_error\r\n",
        "from sklearn.ensemble import GradientBoostingRegressor\r\n",
        "from sklearn.ensemble import RandomForestRegressor\r\n",
        "from sklearn.svm import SVR\r\n",
        "from sklearn.ensemble import ExtraTreesRegressor\r\n",
        "from sklearn.linear_model import LinearRegression\r\n",
        "\r\n",
        "from tqdm import tnrange, tqdm_notebook"
      ],
      "execution_count": 1,
      "outputs": []
    },
    {
      "cell_type": "code",
      "metadata": {
        "id": "zOGDasqxz-zy"
      },
      "source": [
        "solar_data = pd.read_csv('./data/train/train.csv',encoding='utf-8')"
      ],
      "execution_count": 2,
      "outputs": []
    },
    {
      "cell_type": "code",
      "metadata": {
        "colab": {
          "base_uri": "https://localhost:8080/",
          "height": 283
        },
        "id": "uaEHhgsM0AY7",
        "outputId": "d39e044d-e1b5-446f-9f9a-5b6c60355529"
      },
      "source": [
        "corrList = []\r\n",
        "corr = lambda p : p['TARGET'].corr(p['GHI'])\r\n",
        "\r\n",
        "def makeCorrList(df):\r\n",
        "    result = corr(df)\r\n",
        "    corrList.append(result)\r\n",
        "\r\n",
        "for i in range(0,90):\r\n",
        "    solar_data['GHI'] = solar_data['DNI']*math.cos(math.pi/180*i)+solar_data['DHI']\r\n",
        "    makeCorrList(solar_data)\r\n",
        "\r\n",
        "x = np.arange(0,90)\r\n",
        "plt.plot(x,corrList)\r\n",
        "plt.show()\r\n",
        "\r\n",
        "print(corrList.index(max(corrList)), max(corrList))"
      ],
      "execution_count": 3,
      "outputs": [
        {
          "output_type": "display_data",
          "data": {
            "image/png": "[encoded data removed]",
            "text/plain": [
              "<Figure size 432x288 with 1 Axes>"
            ]
          },
          "metadata": {
            "tags": [],
            "needs_background": "light"
          }
        },
        {
          "output_type": "stream",
          "text": [
            "63 0.9451229383187165\n"
          ],
          "name": "stdout"
        }
      ]
    },
    {
      "cell_type": "code",
      "metadata": {
        "id": "K-a1c6fS0X9-"
      },
      "source": [
        "solar_data['GHI'] = solar_data['DNI']*math.cos(math.pi/180*63)+solar_data['DHI']"
      ],
      "execution_count": 4,
      "outputs": []
    },
    {
      "cell_type": "code",
      "metadata": {
        "id": "ZDo1NpuX0Zqv"
      },
      "source": [
        "def eval_dewpoint(T, RH):\r\n",
        "    b = 17.62\r\n",
        "    c = 243.12\r\n",
        "    gamma = (b * T / (c + T)) + math.log(RH / 100.0)\r\n",
        "    dewpoint = (c * gamma) / (b - gamma)\r\n",
        "    return dewpoint"
      ],
      "execution_count": 5,
      "outputs": []
    },
    {
      "cell_type": "code",
      "metadata": {
        "id": "RJlOcsM-0bJV"
      },
      "source": [
        "for i in range(len(solar_data)):\r\n",
        "    solar_data.loc[i, [\"DP\"]] = eval_dewpoint(float(solar_data.loc[i, [\"T\"]]), solar_data.loc[i , [\"RH\"]])"
      ],
      "execution_count": 6,
      "outputs": []
    },
    {
      "cell_type": "code",
      "metadata": {
        "id": "fiqs9tto0cZA"
      },
      "source": [
        "solar_data = solar_data.reindex(columns=[\"Day\", \"Hour\", \"Minute\", \"GHI\", \"DHI\", \"DNI\", \"WS\", \"RH\", \"T\", \"DP\", \"TARGET\"])"
      ],
      "execution_count": 7,
      "outputs": []
    },
    {
      "cell_type": "code",
      "metadata": {
        "colab": {
          "base_uri": "https://localhost:8080/",
          "height": 461
        },
        "id": "nqCF8bxv0eRs",
        "outputId": "4aa3ee84-ee48-4761-d82b-18ef340e7d4a"
      },
      "source": [
        "mask = (solar_data.Hour==12)&(solar_data.Minute==00)\r\n",
        "# solar_data_filtered = solar_data.loc[mask,:]\r\n",
        "# solar_data_filtered.drop(['Day', 'Hour','Minute'], axis='columns', inplace=True)\r\n",
        "plt.figure(figsize=(7, 7))\r\n",
        "# sns.heatmap(data=solar_data_filtered.corr(), annot=True,fmt='.2f', linewidths=.5, cmap='Blues')\r\n",
        "sns.heatmap(data=solar_data.corr(), annot=True,fmt='.2f', linewidths=.5, cmap='Blues')\r\n",
        "plt.rcParams['font.family'] = 'NanumGothic'"
      ],
      "execution_count": 8,
      "outputs": [
        {
          "output_type": "display_data",
          "data": {
            "image/png": "[encoded data removed]",
            "text/plain": [
              "<Figure size 504x504 with 2 Axes>"
            ]
          },
          "metadata": {
            "tags": [],
            "needs_background": "light"
          }
        }
      ]
    },
    {
      "cell_type": "code",
      "metadata": {
        "id": "aKYpyko20fjt"
      },
      "source": [
        "solar_data.drop(['Day', 'Hour','Minute'], axis='columns', inplace=True)"
      ],
      "execution_count": 9,
      "outputs": []
    },
    {
      "cell_type": "code",
      "metadata": {
        "id": "9Ia4GOio0hT7"
      },
      "source": [
        "class CustomHistory(keras.callbacks.Callback):\r\n",
        "    def init(self):\r\n",
        "        self.train_loss = []\r\n",
        "        self.val_loss = []\r\n",
        "        \r\n",
        "    def on_epoch_end(self, batch, logs={}):\r\n",
        "        self.train_loss.append(logs.get('loss'))\r\n",
        "        self.val_loss.append(logs.get('val_loss'))\r\n",
        "\r\n",
        "def create_dataset(solar_data, index):\r\n",
        "    dataX, dataY = [], []\r\n",
        "    for i in range(0,48*7):\r\n",
        "        dataX.append(list(np.array(solar_data.loc[index+i].tolist())))\r\n",
        "    for i in range(48*7,48*7+48*2):\r\n",
        "        dataY.append(solar_data.loc[index+i,'TARGET'])\r\n",
        "    return np.array(dataX), np.array(dataY)\r\n",
        "\r\n",
        "def linear_reg(X,y):\r\n",
        "    model = linear_model.LinearRegression(fit_intercept = True)\r\n",
        "    model.fit(X,y)\r\n",
        "    RSS = mean_squared_error(y,model.predict(X)) * len(y)\r\n",
        "    R_squared = model.score(X,y)\r\n",
        "    return RSS, R_squared\r\n",
        "\r\n",
        "def random_forest(X,y):\r\n",
        "    model = RandomForestRegressor(n_estimators=500, max_features=0.25)\r\n",
        "    model.fit(X,y)\r\n",
        "    RSS = mean_squared_error(y,model.predict(X)) * len(y)\r\n",
        "    R_squared = model.score(X,y)\r\n",
        "    return RSS, R_squared\r\n",
        "\r\n",
        "def gradient_boosting(X, y):\r\n",
        "    model = GradientBoostingRegressor(learning_rate=0.1, n_estimators=500, max_depth=3)\r\n",
        "    model.fit(X,y)\r\n",
        "    RSS = mean_squared_error(y,model.predict(X)) * len(y)\r\n",
        "    R_squared = model.score(X,y)\r\n",
        "    return RSS, R_squared    \r\n",
        "\r\n",
        "def support_vector(X, y):\r\n",
        "    model = SVR(kernel = 'rbf')\r\n",
        "    model.fit(X,y)\r\n",
        "    RSS = mean_squared_error(y,model.predict(X)) * len(y)\r\n",
        "    R_squared = model.score(X,y)\r\n",
        "    return RSS, R_squared \r\n",
        "\r\n",
        "def extraTree(X, y):\r\n",
        "    model = ETR_model = ExtraTreesRegressor(n_estimators=1000)\r\n",
        "    model.fit(X,y)\r\n",
        "    RSS = mean_squared_error(y,model.predict(X)) * len(y)\r\n",
        "    R_squared = model.score(X,y)\r\n",
        "    return RSS, R_squared"
      ],
      "execution_count": 10,
      "outputs": []
    },
    {
      "cell_type": "code",
      "metadata": {
        "colab": {
          "base_uri": "https://localhost:8080/",
          "height": 123,
          "referenced_widgets": [
            "07c4564512a641a4ba9a44da0152f15f",
            "96b4294b8d0c4b2d981d2f70261d2813",
            "105511f055fa44e8b0c05eb9232b1307",
            "785b90cb0bb343f8b3f54b2ce968f77c",
            "9e11402384704d82a33794774c4c6f0f",
            "dfec6327655e4e118e2ea80262e644fe",
            "7e60c5aa53974d7980aed5812a06a558",
            "6e107d09afd948b29b7af0e62312303b"
          ]
        },
        "id": "SinlT59K0jzN",
        "outputId": "8e0d3a72-7a8a-4e74-de4a-15f30433d954"
      },
      "source": [
        "x_train_for_test=solar_data[[\"GHI\", \"DHI\", \"DNI\", \"WS\", \"RH\", \"T\", \"DP\"]]\r\n",
        "y_train_for_test=solar_data['TARGET']\r\n",
        "\r\n",
        "m = len(y_train_for_test)\r\n",
        "k = 5\r\n",
        "RSS_list, R_squared_list, feature_list = [],[], []\r\n",
        "numb_features = []\r\n",
        "\r\n",
        "for k in tnrange(1,len(x_train_for_test.columns) + 1):\r\n",
        "    for combo in itertools.combinations(x_train_for_test.columns,k):\r\n",
        "        tmp_result = random_forest(x_train_for_test[list(combo)],y_train_for_test)  \r\n",
        "        RSS_list.append(tmp_result[0])              \r\n",
        "        R_squared_list.append(tmp_result[1])\r\n",
        "        feature_list.append(combo)\r\n",
        "        numb_features.append(len(combo))   \r\n",
        "df = pd.DataFrame({'numb_features': numb_features,'RSS': RSS_list, 'R_squared':R_squared_list,'features':feature_list})\r\n",
        "df['min_RSS'] = df.groupby('numb_features')['RSS'].transform(min)\r\n",
        "df['max_R_squared'] = df.groupby('numb_features')['R_squared'].transform(max)\r\n",
        "df_min = df[df.groupby('numb_features')['RSS'].transform(min) == df['RSS']]"
      ],
      "execution_count": 11,
      "outputs": [
        {
          "output_type": "stream",
          "text": [
            "/usr/local/lib/python3.6/dist-packages/ipykernel_launcher.py:9: TqdmDeprecationWarning: Please use `tqdm.notebook.trange` instead of `tqdm.tnrange`\n",
            "  if __name__ == '__main__':\n"
          ],
          "name": "stderr"
        },
        {
          "output_type": "display_data",
          "data": {
            "application/vnd.jupyter.widget-view+json": {
              "model_id": "07c4564512a641a4ba9a44da0152f15f",
              "version_minor": 0,
              "version_major": 2
            },
            "text/plain": [
              "HBox(children=(FloatProgress(value=0.0, max=7.0), HTML(value='')))"
            ]
          },
          "metadata": {
            "tags": []
          }
        },
        {
          "output_type": "stream",
          "text": [
            "\n"
          ],
          "name": "stdout"
        }
      ]
    },
    {
      "cell_type": "code",
      "metadata": {
        "id": "ETkQyX7e4UFv"
      },
      "source": [
        "df_rf=df\r\n",
        "df_min_rf=df_min\r\n",
        "df_rf.to_csv(f'df_rg.csv', index=False)\r\n",
        "df_min_rf.to_csv(f'df_min_rg.csv', index=False)"
      ],
      "execution_count": 12,
      "outputs": []
    },
    {
      "cell_type": "code",
      "metadata": {
        "id": "TKUpvzZG-SmN",
        "colab": {
          "base_uri": "https://localhost:8080/",
          "height": 103,
          "referenced_widgets": [
            "6ae5330473bd461daa8334eb4c5a595a",
            "7e9286717f8e4df4b1e0aa895cec10ea",
            "518b1b8806a64595b385c3449e319214",
            "a5433e6adc1049f384e3576ba4fd2161",
            "aa5df18045144f889dca9088bde31faf",
            "15b1917a525e4c6a9f7dcf28e640deba",
            "4510d5f394b440799fb23673945a4b6a",
            "2a7f5c2466e549a6bafce45e598070cb"
          ]
        },
        "outputId": "33a58033-2cfa-498a-db57-9b45603d12c6"
      },
      "source": [
        "x_train_for_test=solar_data[[\"GHI\", \"DHI\", \"DNI\", \"WS\", \"RH\", \"T\", \"DP\"]]\r\n",
        "y_train_for_test=solar_data['TARGET']\r\n",
        "\r\n",
        "m = len(y_train_for_test)\r\n",
        "k = 5\r\n",
        "RSS_list, R_squared_list, feature_list = [],[], []\r\n",
        "numb_features = []\r\n",
        "\r\n",
        "for k in tnrange(1,len(x_train_for_test.columns) + 1):\r\n",
        "    for combo in itertools.combinations(x_train_for_test.columns,k):\r\n",
        "        tmp_result = gradient_boosting(x_train_for_test[list(combo)],y_train_for_test)  \r\n",
        "        RSS_list.append(tmp_result[0])              \r\n",
        "        R_squared_list.append(tmp_result[1])\r\n",
        "        feature_list.append(combo)\r\n",
        "        numb_features.append(len(combo))   \r\n",
        "df = pd.DataFrame({'numb_features': numb_features,'RSS': RSS_list, 'R_squared':R_squared_list,'features':feature_list})\r\n",
        "df['min_RSS'] = df.groupby('numb_features')['RSS'].transform(min)\r\n",
        "df['max_R_squared'] = df.groupby('numb_features')['R_squared'].transform(max)\r\n",
        "df_min = df[df.groupby('numb_features')['RSS'].transform(min) == df['RSS']]"
      ],
      "execution_count": 13,
      "outputs": [
        {
          "output_type": "stream",
          "text": [
            "/usr/local/lib/python3.6/dist-packages/ipykernel_launcher.py:9: TqdmDeprecationWarning: Please use `tqdm.notebook.trange` instead of `tqdm.tnrange`\n",
            "  if __name__ == '__main__':\n"
          ],
          "name": "stderr"
        },
        {
          "output_type": "display_data",
          "data": {
            "application/vnd.jupyter.widget-view+json": {
              "model_id": "6ae5330473bd461daa8334eb4c5a595a",
              "version_minor": 0,
              "version_major": 2
            },
            "text/plain": [
              "HBox(children=(FloatProgress(value=0.0, max=7.0), HTML(value='')))"
            ]
          },
          "metadata": {
            "tags": []
          }
        },
        {
          "output_type": "stream",
          "text": [
            "\n"
          ],
          "name": "stdout"
        }
      ]
    },
    {
      "cell_type": "code",
      "metadata": {
        "id": "LYvzvD-oOWBz"
      },
      "source": [
        "df_gb=df\r\n",
        "df_min_gb=df_min\r\n",
        "df_gb.to_csv(f'df_gb.csv', index=False)\r\n",
        "df_min_gb.to_csv(f'df_min_gb.csv', index=False)"
      ],
      "execution_count": 14,
      "outputs": []
    },
    {
      "cell_type": "code",
      "metadata": {
        "colab": {
          "base_uri": "https://localhost:8080/",
          "height": 103,
          "referenced_widgets": [
            "9c396f8d42cc46549fd9b08b853fbd13",
            "0e1c7f2fc13a480188783c73bcf1aa08",
            "384f1ba5bd3148c29bb351aa61293f4f",
            "368d07531b474593940c8cbf62e743db",
            "ae535c364f474fae848e8f5e564f868a",
            "9977707652fd46debef84d382c6e7da6",
            "0979cb91bb0d498f850b8050981a9411",
            "01c7a559cc9c41aa8e191979b7cd117c"
          ]
        },
        "id": "3XBus9KyOWlv",
        "outputId": "5d4d7e7f-3124-4360-b7cc-9134b1769ced"
      },
      "source": [
        "x_train_for_test=solar_data[[\"GHI\", \"DHI\", \"DNI\", \"WS\", \"RH\", \"T\", \"DP\"]]\r\n",
        "y_train_for_test=solar_data['TARGET']\r\n",
        "\r\n",
        "m = len(y_train_for_test)\r\n",
        "k = 5\r\n",
        "RSS_list, R_squared_list, feature_list = [],[], []\r\n",
        "numb_features = []\r\n",
        "\r\n",
        "for k in tnrange(1,len(x_train_for_test.columns) + 1):\r\n",
        "    for combo in itertools.combinations(x_train_for_test.columns,k):\r\n",
        "        tmp_result = extraTree(x_train_for_test[list(combo)],y_train_for_test)  \r\n",
        "        RSS_list.append(tmp_result[0])              \r\n",
        "        R_squared_list.append(tmp_result[1])\r\n",
        "        feature_list.append(combo)\r\n",
        "        numb_features.append(len(combo))   \r\n",
        "df = pd.DataFrame({'numb_features': numb_features,'RSS': RSS_list, 'R_squared':R_squared_list,'features':feature_list})\r\n",
        "df['min_RSS'] = df.groupby('numb_features')['RSS'].transform(min)\r\n",
        "df['max_R_squared'] = df.groupby('numb_features')['R_squared'].transform(max)\r\n",
        "df_min = df[df.groupby('numb_features')['RSS'].transform(min) == df['RSS']]"
      ],
      "execution_count": 15,
      "outputs": [
        {
          "output_type": "stream",
          "text": [
            "/usr/local/lib/python3.6/dist-packages/ipykernel_launcher.py:9: TqdmDeprecationWarning: Please use `tqdm.notebook.trange` instead of `tqdm.tnrange`\n",
            "  if __name__ == '__main__':\n"
          ],
          "name": "stderr"
        },
        {
          "output_type": "display_data",
          "data": {
            "application/vnd.jupyter.widget-view+json": {
              "model_id": "9c396f8d42cc46549fd9b08b853fbd13",
              "version_minor": 0,
              "version_major": 2
            },
            "text/plain": [
              "HBox(children=(FloatProgress(value=0.0, max=7.0), HTML(value='')))"
            ]
          },
          "metadata": {
            "tags": []
          }
        },
        {
          "output_type": "stream",
          "text": [
            "\n"
          ],
          "name": "stdout"
        }
      ]
    },
    {
      "cell_type": "code",
      "metadata": {
        "id": "xUdxpBRhOW8d"
      },
      "source": [
        "df_et=df\r\n",
        "df_min_et=df_min\r\n",
        "df_et.to_csv(f'df_et.csv', index=False)\r\n",
        "df_min_et.to_csv(f'df_min_et.csv', index=False)"
      ],
      "execution_count": 16,
      "outputs": []
    },
    {
      "cell_type": "code",
      "metadata": {
        "id": "bin51dQ1mA3E"
      },
      "source": [
        ""
      ],
      "execution_count": 16,
      "outputs": []
    },
    {
      "cell_type": "markdown",
      "metadata": {
        "id": "WSJHBRegACeK"
      },
      "source": [
        "# 새 섹션"
      ]
    },
    {
      "cell_type": "markdown",
      "metadata": {
        "id": "R_0ZfkSBG58G"
      },
      "source": [
        "# 새 섹션"
      ]
    },
    {
      "cell_type": "markdown",
      "metadata": {
        "id": "scqajy7WNxYl"
      },
      "source": [
        "# 새 섹션"
      ]
    },
    {
      "cell_type": "markdown",
      "metadata": {
        "id": "nibb4FNwUoyJ"
      },
      "source": [
        "# 새 섹션"
      ]
    }
  ]
}