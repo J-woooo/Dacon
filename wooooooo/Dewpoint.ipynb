{
  "nbformat": 4,
  "nbformat_minor": 0,
  "metadata": {
    "colab": {
      "name": "이슬점온도.ipynb",
      "provenance": [],
      "collapsed_sections": []
    },
    "kernelspec": {
      "name": "python3",
      "display_name": "Python 3"
    }
  },
  "cells": [
    {
      "cell_type": "markdown",
      "metadata": {
        "id": "vJlWzw39wxB2"
      },
      "source": [
        "## 이슬점 온도(Dew Point)\r\n",
        "\r\n",
        "이슬점은 대기 속의 수증기가 포화되어 그 수증기의 일부가 물로 응결할 때의 온도를 뜻한다.\r\n",
        "\r\n",
        "상대 습도 : 대기 중에 포함된 수증기의 압력을 포화수증기의 압력으로 나눈 것\r\n",
        "\r\n",
        "포화수증기량은 온도에 따라 올라가기 때문에, 대기를 냉각시켜서 포화수증기량이 감소하면 상대습도가 증가한다.\r\n",
        "\r\n",
        "상대습도가 100%가 되는 포화 상태에서는 대기 중의 수증기가 더 이상 기체 상태로 존재하지 못하고 액체인 물방울로 변하게 된느데, 이때의 온도를 이슬점이라고 한다."
      ]
    },
    {
      "cell_type": "code",
      "metadata": {
        "id": "5FQYdlTBx19T"
      },
      "source": [
        "import pandas as pd\r\n",
        "import matplotlib.pyplot as plt\r\n",
        "import math"
      ],
      "execution_count": 1,
      "outputs": []
    },
    {
      "cell_type": "code",
      "metadata": {
        "colab": {
          "base_uri": "https://localhost:8080/",
          "height": 194
        },
        "id": "JRrtvR3akPlw",
        "outputId": "c46f2e21-9f03-4a36-950e-af11046e6b40"
      },
      "source": [
        "solar_data = pd.read_csv('train.csv',encoding='utf-8')\r\n",
        "solar_data.head()"
      ],
      "execution_count": 9,
      "outputs": [
        {
          "output_type": "execute_result",
          "data": {
            "text/html": [
              "<div>\n",
              "<style scoped>\n",
              "    .dataframe tbody tr th:only-of-type {\n",
              "        vertical-align: middle;\n",
              "    }\n",
              "\n",
              "    .dataframe tbody tr th {\n",
              "        vertical-align: top;\n",
              "    }\n",
              "\n",
              "    .dataframe thead th {\n",
              "        text-align: right;\n",
              "    }\n",
              "</style>\n",
              "<table border=\"1\" class=\"dataframe\">\n",
              "  <thead>\n",
              "    <tr style=\"text-align: right;\">\n",
              "      <th></th>\n",
              "      <th>Day</th>\n",
              "      <th>Hour</th>\n",
              "      <th>Minute</th>\n",
              "      <th>DHI</th>\n",
              "      <th>DNI</th>\n",
              "      <th>WS</th>\n",
              "      <th>RH</th>\n",
              "      <th>T</th>\n",
              "      <th>TARGET</th>\n",
              "    </tr>\n",
              "  </thead>\n",
              "  <tbody>\n",
              "    <tr>\n",
              "      <th>0</th>\n",
              "      <td>0</td>\n",
              "      <td>0</td>\n",
              "      <td>0</td>\n",
              "      <td>0</td>\n",
              "      <td>0</td>\n",
              "      <td>1.5</td>\n",
              "      <td>69.08</td>\n",
              "      <td>-12</td>\n",
              "      <td>0.0</td>\n",
              "    </tr>\n",
              "    <tr>\n",
              "      <th>1</th>\n",
              "      <td>0</td>\n",
              "      <td>0</td>\n",
              "      <td>30</td>\n",
              "      <td>0</td>\n",
              "      <td>0</td>\n",
              "      <td>1.5</td>\n",
              "      <td>69.06</td>\n",
              "      <td>-12</td>\n",
              "      <td>0.0</td>\n",
              "    </tr>\n",
              "    <tr>\n",
              "      <th>2</th>\n",
              "      <td>0</td>\n",
              "      <td>1</td>\n",
              "      <td>0</td>\n",
              "      <td>0</td>\n",
              "      <td>0</td>\n",
              "      <td>1.6</td>\n",
              "      <td>71.78</td>\n",
              "      <td>-12</td>\n",
              "      <td>0.0</td>\n",
              "    </tr>\n",
              "    <tr>\n",
              "      <th>3</th>\n",
              "      <td>0</td>\n",
              "      <td>1</td>\n",
              "      <td>30</td>\n",
              "      <td>0</td>\n",
              "      <td>0</td>\n",
              "      <td>1.6</td>\n",
              "      <td>71.75</td>\n",
              "      <td>-12</td>\n",
              "      <td>0.0</td>\n",
              "    </tr>\n",
              "    <tr>\n",
              "      <th>4</th>\n",
              "      <td>0</td>\n",
              "      <td>2</td>\n",
              "      <td>0</td>\n",
              "      <td>0</td>\n",
              "      <td>0</td>\n",
              "      <td>1.6</td>\n",
              "      <td>75.20</td>\n",
              "      <td>-12</td>\n",
              "      <td>0.0</td>\n",
              "    </tr>\n",
              "  </tbody>\n",
              "</table>\n",
              "</div>"
            ],
            "text/plain": [
              "   Day  Hour  Minute  DHI  DNI   WS     RH   T  TARGET\n",
              "0    0     0       0    0    0  1.5  69.08 -12     0.0\n",
              "1    0     0      30    0    0  1.5  69.06 -12     0.0\n",
              "2    0     1       0    0    0  1.6  71.78 -12     0.0\n",
              "3    0     1      30    0    0  1.6  71.75 -12     0.0\n",
              "4    0     2       0    0    0  1.6  75.20 -12     0.0"
            ]
          },
          "metadata": {
            "tags": []
          },
          "execution_count": 9
        }
      ]
    },
    {
      "cell_type": "code",
      "metadata": {
        "id": "cQfxUFLJzF4m"
      },
      "source": [
        "def eval_dewpoint(T, RH):\r\n",
        "    b = 17.62\r\n",
        "    c = 243.12\r\n",
        "    gamma = (b * T / (c + T)) + math.log(RH / 100.0)\r\n",
        "    dewpoint = (c * gamma) / (b - gamma)\r\n",
        "    return dewpoint"
      ],
      "execution_count": 3,
      "outputs": []
    },
    {
      "cell_type": "code",
      "metadata": {
        "id": "uT653ViQ21e3"
      },
      "source": [
        "for i in range(len(solar_data)):\r\n",
        "    solar_data.loc[i, [\"DP\"]] = eval_dewpoint(float(solar_data.loc[i, [\"T\"]]), solar_data.loc[i , [\"RH\"]])"
      ],
      "execution_count": 4,
      "outputs": []
    },
    {
      "cell_type": "code",
      "metadata": {
        "id": "Py7uFI4SRQ6E"
      },
      "source": [
        "solar_data = solar_data.reindex(columns=[\"Day\", \"Hour\", \"Minute\", \"DHI\", \"DNI\", \"WS\", \"RH\", \"T\", \"DP\", \"TARGET\"])"
      ],
      "execution_count": 7,
      "outputs": []
    },
    {
      "cell_type": "code",
      "metadata": {
        "colab": {
          "base_uri": "https://localhost:8080/"
        },
        "id": "y0KH6ZiR3Ow2",
        "outputId": "f0f734fc-c7f3-4323-deeb-2b28324f526b"
      },
      "source": [
        "print(solar_data.head(50))\r\n"
      ],
      "execution_count": 8,
      "outputs": [
        {
          "output_type": "stream",
          "text": [
            "    Day  Hour  Minute    DHI    DNI   WS     RH     T         DP     TARGET\n",
            "0     0     0       0    0.0    0.0  1.5  69.08 -12.0 -16.522271   0.000000\n",
            "1     0     0      30    0.0    0.0  1.5  69.06 -12.0 -16.525742   0.000000\n",
            "2     0     1       0    0.0    0.0  1.6  71.78 -12.0 -16.061776   0.000000\n",
            "3     0     1      30    0.0    0.0  1.6  71.75 -12.0 -16.066807   0.000000\n",
            "4     0     2       0    0.0    0.0  1.6  75.20 -12.0 -15.500215   0.000000\n",
            "5     0     2      30    0.0    0.0  1.5  69.29 -11.0 -15.524406   0.000000\n",
            "6     0     3       0    0.0    0.0  1.5  72.56 -11.0 -14.965431   0.000000\n",
            "7     0     3      30    0.0    0.0  1.4  72.55 -11.0 -14.967106   0.000000\n",
            "8     0     4       0    0.0    0.0  1.3  74.62 -11.0 -14.624744   0.000000\n",
            "9     0     4      30    0.0    0.0  1.3  74.61 -11.0 -14.626377   0.000000\n",
            "10    0     5       0    0.0    0.0  1.3  73.74 -11.0 -14.769239   0.000000\n",
            "11    0     5      30    0.0    0.0  1.3  73.73 -11.0 -14.770890   0.000000\n",
            "12    0     6       0    0.0    0.0  1.4  72.22 -12.0 -15.988204   0.000000\n",
            "13    0     6      30    0.0    0.0  1.4  72.22 -12.0 -15.988204   0.000000\n",
            "14    0     7       0    0.0    0.0  1.4  70.27 -12.0 -16.317364   0.000000\n",
            "15    0     7      30    0.0    0.0  1.6  64.83 -10.0 -15.371543   0.000000\n",
            "16    0     8       0   29.0  494.0  1.8  65.45  -9.0 -14.300915   7.039287\n",
            "17    0     8      30   61.0    7.0  1.9  55.90  -7.0 -14.334384   5.912871\n",
            "18    0     9       0   58.0  743.0  2.1  57.39  -6.0 -13.071140  22.337268\n",
            "19    0     9      30   67.0  811.0  1.9  53.15  -4.0 -12.148915  29.469529\n",
            "20    0    10       0  138.0  368.0  1.8  55.99  -3.0 -10.560687  25.339762\n",
            "21    0    10      30  178.0  224.0  1.9  55.97  -3.0 -10.565198  25.152060\n",
            "22    0    11       0  193.0  261.0  2.0  58.43  -3.0 -10.020889  28.718397\n",
            "23    0    11      30  189.0  364.0  2.3  58.41  -3.0 -10.025231  33.129393\n",
            "24    0    12       0  190.0   37.0  2.6  59.19  -3.0  -9.856857  19.427151\n",
            "25    0    12      30  213.0  133.0  2.9  59.18  -3.0  -9.859003  25.715166\n",
            "26    0    13       0  211.0  114.0  3.2  63.27  -4.0  -9.957778  24.589225\n",
            "27    0    13      30  185.0  101.0  3.1  63.27  -4.0  -9.957778  21.304405\n",
            "28    0    14       0  124.0    2.0  3.0  62.84  -4.0 -10.044290  11.731500\n",
            "29    0    14      30  135.0   69.0  2.7  62.85  -4.0 -10.042272  14.734764\n",
            "30    0    15       0   62.0    0.0  2.5  68.55  -5.0  -9.895347   5.818888\n",
            "31    0    15      30   73.0   39.0  2.2  68.55  -5.0  -9.895347   7.602096\n",
            "32    0    16       0   41.0   11.0  2.0  70.27  -6.0 -10.542233   4.035725\n",
            "33    0    16      30   10.0    0.0  2.0  70.28  -6.0 -10.540436   0.938541\n",
            "34    0    17       0    0.0    0.0  2.0  71.33  -7.0 -11.316719   0.000000\n",
            "35    0    17      30    0.0    0.0  2.0  71.35  -7.0 -11.313203   0.000000\n",
            "36    0    18       0    0.0    0.0  2.1  76.43  -8.0 -11.418324   0.000000\n",
            "37    0    18      30    0.0    0.0  2.2  76.44  -8.0 -11.416684   0.000000\n",
            "38    0    19       0    0.0    0.0  2.3  76.72  -8.0 -11.370852   0.000000\n",
            "39    0    19      30    0.0    0.0  2.2  76.72  -8.0 -11.370852   0.000000\n",
            "40    0    20       0    0.0    0.0  2.2  77.51  -8.0 -11.242341   0.000000\n",
            "41    0    20      30    0.0    0.0  2.0  77.51  -8.0 -11.242341   0.000000\n",
            "42    0    21       0    0.0    0.0  1.9  83.46  -9.0 -11.290789   0.000000\n",
            "43    0    21      30    0.0    0.0  1.8  83.46  -9.0 -11.290789   0.000000\n",
            "44    0    22       0    0.0    0.0  1.8  83.36  -9.0 -11.305829   0.000000\n",
            "45    0    22      30    0.0    0.0  1.7  83.36  -9.0 -11.305829   0.000000\n",
            "46    0    23       0    0.0    0.0  1.7  90.86 -10.0 -11.209669   0.000000\n",
            "47    0    23      30    0.0    0.0  1.6  90.85 -10.0 -11.211051   0.000000\n",
            "48    1     0       0    0.0    0.0  1.6  90.66 -10.0 -11.237332   0.000000\n",
            "49    1     0      30    0.0    0.0  1.6  90.68 -10.0 -11.234563   0.000000\n"
          ],
          "name": "stdout"
        }
      ]
    },
    {
      "cell_type": "code",
      "metadata": {
        "colab": {
          "base_uri": "https://localhost:8080/",
          "height": 265
        },
        "id": "baNnbciJyxPZ",
        "outputId": "b8592714-7e02-4dba-aa76-1ebb95700029"
      },
      "source": [
        "plt.plot(range(len(solar_data)), solar_data[\"T\"])\r\n",
        "plt.plot(range(len(solar_data)), solar_data[\"DP\"])\r\n",
        "plt.show()"
      ],
      "execution_count": 6,
      "outputs": [
        {
          "output_type": "display_data",
          "data": {
            "image/png": "[encoded data removed]",
            "text/plain": [
              "<Figure size 432x288 with 1 Axes>"
            ]
          },
          "metadata": {
            "tags": [],
            "needs_background": "light"
          }
        }
      ]
    },
    {
      "cell_type": "code",
      "metadata": {
        "id": "iRqcCnFXQmCJ"
      },
      "source": [
        ""
      ],
      "execution_count": null,
      "outputs": []
    }
  ]
}