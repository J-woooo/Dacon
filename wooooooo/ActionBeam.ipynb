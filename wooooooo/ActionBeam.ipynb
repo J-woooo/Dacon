{
  "nbformat": 4,
  "nbformat_minor": 0,
  "metadata": {
    "kernelspec": {
      "display_name": "py37",
      "language": "python",
      "name": "python37"
    },
    "language_info": {
      "codemirror_mode": {
        "name": "ipython",
        "version": 3
      },
      "file_extension": ".py",
      "mimetype": "text/x-python",
      "name": "python",
      "nbconvert_exporter": "python",
      "pygments_lexer": "ipython3",
      "version": "3.7.0"
    },
    "colab": {
      "name": "ActionBeam.ipynb의 사본",
      "provenance": [],
      "collapsed_sections": []
    }
  },
  "cells": [
    {
      "cell_type": "code",
      "metadata": {
        "id": "x_WBpd-UPuY_"
      },
      "source": [
        "import matplotlib.pyplot as plt\n",
        "import pandas as pd\n",
        "import numpy as np"
      ],
      "execution_count": null,
      "outputs": []
    },
    {
      "cell_type": "code",
      "metadata": {
        "colab": {
          "base_uri": "https://localhost:8080/",
          "height": 204
        },
        "id": "N1UMf_j2PuZQ",
        "outputId": "55b75ef4-6ddf-4003-a9c1-6ab8dce1e943"
      },
      "source": [
        "sun_data = pd.read_csv(\"train.csv\")\n",
        "sun_data.drop(['Day', 'Hour','Minute'], axis='columns', inplace=True)\n",
        "sun_data.head()"
      ],
      "execution_count": null,
      "outputs": [
        {
          "output_type": "execute_result",
          "data": {
            "text/html": [
              "<div>\n",
              "<style scoped>\n",
              "    .dataframe tbody tr th:only-of-type {\n",
              "        vertical-align: middle;\n",
              "    }\n",
              "\n",
              "    .dataframe tbody tr th {\n",
              "        vertical-align: top;\n",
              "    }\n",
              "\n",
              "    .dataframe thead th {\n",
              "        text-align: right;\n",
              "    }\n",
              "</style>\n",
              "<table border=\"1\" class=\"dataframe\">\n",
              "  <thead>\n",
              "    <tr style=\"text-align: right;\">\n",
              "      <th></th>\n",
              "      <th>DHI</th>\n",
              "      <th>DNI</th>\n",
              "      <th>WS</th>\n",
              "      <th>RH</th>\n",
              "      <th>T</th>\n",
              "      <th>TARGET</th>\n",
              "    </tr>\n",
              "  </thead>\n",
              "  <tbody>\n",
              "    <tr>\n",
              "      <th>0</th>\n",
              "      <td>0</td>\n",
              "      <td>0</td>\n",
              "      <td>1.5</td>\n",
              "      <td>69.08</td>\n",
              "      <td>-12</td>\n",
              "      <td>0.0</td>\n",
              "    </tr>\n",
              "    <tr>\n",
              "      <th>1</th>\n",
              "      <td>0</td>\n",
              "      <td>0</td>\n",
              "      <td>1.5</td>\n",
              "      <td>69.06</td>\n",
              "      <td>-12</td>\n",
              "      <td>0.0</td>\n",
              "    </tr>\n",
              "    <tr>\n",
              "      <th>2</th>\n",
              "      <td>0</td>\n",
              "      <td>0</td>\n",
              "      <td>1.6</td>\n",
              "      <td>71.78</td>\n",
              "      <td>-12</td>\n",
              "      <td>0.0</td>\n",
              "    </tr>\n",
              "    <tr>\n",
              "      <th>3</th>\n",
              "      <td>0</td>\n",
              "      <td>0</td>\n",
              "      <td>1.6</td>\n",
              "      <td>71.75</td>\n",
              "      <td>-12</td>\n",
              "      <td>0.0</td>\n",
              "    </tr>\n",
              "    <tr>\n",
              "      <th>4</th>\n",
              "      <td>0</td>\n",
              "      <td>0</td>\n",
              "      <td>1.6</td>\n",
              "      <td>75.20</td>\n",
              "      <td>-12</td>\n",
              "      <td>0.0</td>\n",
              "    </tr>\n",
              "  </tbody>\n",
              "</table>\n",
              "</div>"
            ],
            "text/plain": [
              "   DHI  DNI   WS     RH   T  TARGET\n",
              "0    0    0  1.5  69.08 -12     0.0\n",
              "1    0    0  1.5  69.06 -12     0.0\n",
              "2    0    0  1.6  71.78 -12     0.0\n",
              "3    0    0  1.6  71.75 -12     0.0\n",
              "4    0    0  1.6  75.20 -12     0.0"
            ]
          },
          "metadata": {
            "tags": []
          },
          "execution_count": 20
        }
      ]
    },
    {
      "cell_type": "code",
      "metadata": {
        "colab": {
          "base_uri": "https://localhost:8080/",
          "height": 204
        },
        "id": "xuVjHa7ePuZT",
        "outputId": "5ba94a2d-2a65-4287-f533-9b9b6c52b572"
      },
      "source": [
        "sun_data.tail()"
      ],
      "execution_count": null,
      "outputs": [
        {
          "output_type": "execute_result",
          "data": {
            "text/html": [
              "<div>\n",
              "<style scoped>\n",
              "    .dataframe tbody tr th:only-of-type {\n",
              "        vertical-align: middle;\n",
              "    }\n",
              "\n",
              "    .dataframe tbody tr th {\n",
              "        vertical-align: top;\n",
              "    }\n",
              "\n",
              "    .dataframe thead th {\n",
              "        text-align: right;\n",
              "    }\n",
              "</style>\n",
              "<table border=\"1\" class=\"dataframe\">\n",
              "  <thead>\n",
              "    <tr style=\"text-align: right;\">\n",
              "      <th></th>\n",
              "      <th>DHI</th>\n",
              "      <th>DNI</th>\n",
              "      <th>WS</th>\n",
              "      <th>RH</th>\n",
              "      <th>T</th>\n",
              "      <th>TARGET</th>\n",
              "    </tr>\n",
              "  </thead>\n",
              "  <tbody>\n",
              "    <tr>\n",
              "      <th>52555</th>\n",
              "      <td>0</td>\n",
              "      <td>0</td>\n",
              "      <td>2.4</td>\n",
              "      <td>70.70</td>\n",
              "      <td>-4</td>\n",
              "      <td>0.0</td>\n",
              "    </tr>\n",
              "    <tr>\n",
              "      <th>52556</th>\n",
              "      <td>0</td>\n",
              "      <td>0</td>\n",
              "      <td>2.4</td>\n",
              "      <td>66.79</td>\n",
              "      <td>-4</td>\n",
              "      <td>0.0</td>\n",
              "    </tr>\n",
              "    <tr>\n",
              "      <th>52557</th>\n",
              "      <td>0</td>\n",
              "      <td>0</td>\n",
              "      <td>2.2</td>\n",
              "      <td>66.78</td>\n",
              "      <td>-4</td>\n",
              "      <td>0.0</td>\n",
              "    </tr>\n",
              "    <tr>\n",
              "      <th>52558</th>\n",
              "      <td>0</td>\n",
              "      <td>0</td>\n",
              "      <td>2.1</td>\n",
              "      <td>67.72</td>\n",
              "      <td>-4</td>\n",
              "      <td>0.0</td>\n",
              "    </tr>\n",
              "    <tr>\n",
              "      <th>52559</th>\n",
              "      <td>0</td>\n",
              "      <td>0</td>\n",
              "      <td>2.1</td>\n",
              "      <td>67.70</td>\n",
              "      <td>-4</td>\n",
              "      <td>0.0</td>\n",
              "    </tr>\n",
              "  </tbody>\n",
              "</table>\n",
              "</div>"
            ],
            "text/plain": [
              "       DHI  DNI   WS     RH  T  TARGET\n",
              "52555    0    0  2.4  70.70 -4     0.0\n",
              "52556    0    0  2.4  66.79 -4     0.0\n",
              "52557    0    0  2.2  66.78 -4     0.0\n",
              "52558    0    0  2.1  67.72 -4     0.0\n",
              "52559    0    0  2.1  67.70 -4     0.0"
            ]
          },
          "metadata": {
            "tags": []
          },
          "execution_count": 21
        }
      ]
    },
    {
      "cell_type": "code",
      "metadata": {
        "colab": {
          "base_uri": "https://localhost:8080/"
        },
        "id": "dIewD0V5PuZU",
        "outputId": "fc8d8e6a-e194-4b72-979a-a50685bd4437"
      },
      "source": [
        "print(1092/7)\n",
        "print(48*7)"
      ],
      "execution_count": null,
      "outputs": [
        {
          "output_type": "stream",
          "text": [
            "156.0\n",
            "336\n"
          ],
          "name": "stdout"
        }
      ]
    },
    {
      "cell_type": "code",
      "metadata": {
        "colab": {
          "base_uri": "https://localhost:8080/"
        },
        "id": "z-akvMYyPuZU",
        "outputId": "92f56580-e1f9-4ab2-df60-f4b673c79ffc"
      },
      "source": [
        "def create_data(data):\n",
        "    data_X, data_Y = [], []\n",
        "#     input_data_X, input_data_Y = [], []\n",
        "    data_X = np.array(sun_data.loc[:52415, [\"DHI\", \"DNI\", \"WS\", \"RH\", \"T\"]].values)\n",
        "    data_Y = np.array(sun_data.loc[:52415, [\"TARGET\"]].values)\n",
        "#     for i in range(1092//7):\n",
        "#         input_data_X += data_X[i*(48*7) : (i+1)*(48*7)]\n",
        "#         input_data_Y += data_Y[i*(48*7) : (i+1)*(48*7)]\n",
        "    return data_X, data_Y\n",
        "#     return input_data_X, input_data_Y\n",
        "\n",
        "X, Y = create_data(sun_data)\n",
        "X[:10], Y[:10]"
      ],
      "execution_count": null,
      "outputs": [
        {
          "output_type": "execute_result",
          "data": {
            "text/plain": [
              "(array([[  0.  ,   0.  ,   1.5 ,  69.08, -12.  ],\n",
              "        [  0.  ,   0.  ,   1.5 ,  69.06, -12.  ],\n",
              "        [  0.  ,   0.  ,   1.6 ,  71.78, -12.  ],\n",
              "        [  0.  ,   0.  ,   1.6 ,  71.75, -12.  ],\n",
              "        [  0.  ,   0.  ,   1.6 ,  75.2 , -12.  ],\n",
              "        [  0.  ,   0.  ,   1.5 ,  69.29, -11.  ],\n",
              "        [  0.  ,   0.  ,   1.5 ,  72.56, -11.  ],\n",
              "        [  0.  ,   0.  ,   1.4 ,  72.55, -11.  ],\n",
              "        [  0.  ,   0.  ,   1.3 ,  74.62, -11.  ],\n",
              "        [  0.  ,   0.  ,   1.3 ,  74.61, -11.  ]]), array([[0.],\n",
              "        [0.],\n",
              "        [0.],\n",
              "        [0.],\n",
              "        [0.],\n",
              "        [0.],\n",
              "        [0.],\n",
              "        [0.],\n",
              "        [0.],\n",
              "        [0.]]))"
            ]
          },
          "metadata": {
            "tags": []
          },
          "execution_count": 23
        }
      ]
    },
    {
      "cell_type": "code",
      "metadata": {
        "colab": {
          "base_uri": "https://localhost:8080/"
        },
        "id": "ayc6uoK0PuZV",
        "outputId": "f1d66eeb-e8b2-4252-c0c3-2f9d9d72a803"
      },
      "source": [
        "print(len(X), len(Y))\n",
        "print(len(X[0]), len(Y[0]))\n",
        "X.shape, Y.shape"
      ],
      "execution_count": null,
      "outputs": [
        {
          "output_type": "stream",
          "text": [
            "52416 52416\n",
            "5 1\n"
          ],
          "name": "stdout"
        },
        {
          "output_type": "execute_result",
          "data": {
            "text/plain": [
              "((52416, 5), (52416, 1))"
            ]
          },
          "metadata": {
            "tags": []
          },
          "execution_count": 24
        }
      ]
    },
    {
      "cell_type": "code",
      "metadata": {
        "id": "9TGnj3bJPuZW"
      },
      "source": [
        "from sklearn.preprocessing import StandardScaler\n",
        "\n",
        "scaler = StandardScaler()\n",
        "input_scaler = scaler.fit(X)\n",
        "output_scaler = scaler.fit(Y)\n",
        "\n",
        "X = input_scaler.transform(X)\n",
        "Y = output_scaler.transform(Y)\n",
        "\n",
        "# X = X.reshape(-1,336,5)\n",
        "# Y = Y.reshape(-1,7,1)"
      ],
      "execution_count": null,
      "outputs": []
    },
    {
      "cell_type": "code",
      "metadata": {
        "id": "wLMWO9e4PuZW"
      },
      "source": [
        "from sklearn.model_selection import train_test_split\n",
        "\n",
        "X_train, X_test, y_train, y_test = train_test_split(X, Y)"
      ],
      "execution_count": null,
      "outputs": []
    },
    {
      "cell_type": "code",
      "metadata": {
        "colab": {
          "base_uri": "https://localhost:8080/"
        },
        "id": "9uXOlL-EPuZX",
        "outputId": "e3dc60f4-2fef-4a7a-f9db-3f88f8810913"
      },
      "source": [
        "X_train.shape, y_train.shape"
      ],
      "execution_count": null,
      "outputs": [
        {
          "output_type": "execute_result",
          "data": {
            "text/plain": [
              "((39312, 5), (39312, 1))"
            ]
          },
          "metadata": {
            "tags": []
          },
          "execution_count": 27
        }
      ]
    },
    {
      "cell_type": "code",
      "metadata": {
        "id": "6yfOoI2tTAw1"
      },
      "source": [
        "def create_dataset (X, y, time_steps = 1):\r\n",
        "    Xs, ys = [], []\r\n",
        "    for i in range(len(X)-time_steps):\r\n",
        "        v = X[i:i+time_steps, :]\r\n",
        "        Xs.append(v)\r\n",
        "        ys.append(y[i+time_steps])\r\n",
        "    return np.array(Xs), np.array(ys)"
      ],
      "execution_count": null,
      "outputs": []
    },
    {
      "cell_type": "code",
      "metadata": {
        "id": "-QPeMENNTPoF"
      },
      "source": [
        "X_train, y_train = create_dataset(X_train, y_train, 24)\r\n",
        "X_test, y_test= create_dataset(X_test, y_test, 24)"
      ],
      "execution_count": null,
      "outputs": []
    },
    {
      "cell_type": "code",
      "metadata": {
        "colab": {
          "base_uri": "https://localhost:8080/"
        },
        "id": "EEp75oAgTnOi",
        "outputId": "e4e5e1a7-7cc2-45e2-8f77-cb83febd8930"
      },
      "source": [
        "print('X_train.shape: ', X_test.shape)\r\n",
        "print('y_train.shape: ', y_train.shape)\r\n",
        "print('X_test.shape: ', X_test.shape)\r\n",
        "print('y_test.shape: ', y_train.shape)"
      ],
      "execution_count": null,
      "outputs": [
        {
          "output_type": "stream",
          "text": [
            "X_train.shape:  (13080, 24, 5)\n",
            "y_train.shape:  (39288, 1)\n",
            "X_test.shape:  (13080, 24, 5)\n",
            "y_test.shape:  (39288, 1)\n"
          ],
          "name": "stdout"
        }
      ]
    },
    {
      "cell_type": "code",
      "metadata": {
        "colab": {
          "base_uri": "https://localhost:8080/"
        },
        "id": "f84lD2NIPuZX",
        "outputId": "98c5dde8-d33a-4aef-fd54-1d56e0b65bdf"
      },
      "source": [
        "from keras.models import Sequential\n",
        "from keras.layers import Dense, Activation, LSTM, Dropout, Bidirectional, GRU\n",
        "from keras.callbacks import ModelCheckpoint\n",
        "\n",
        "model = Sequential()\n",
        "model.add(GRU(64, dropout=0.3, return_sequences=True, input_shape=[24,5]))\n",
        "model.add(GRU(64, dropout=0.3))\n",
        "model.add(Dense(1, activation=\"sigmoid\"))\n",
        "model.compile(loss=\"mean_squared_error\", optimizer = \"adam\", metrics=[\"accuracy\"])\n",
        "\n",
        "filepath = \"weights/\" + \"lstm_model\" + \"-{epoch:02d}-{val_accuracy:.4f}.hdf5\"\n",
        "checkpoint = ModelCheckpoint(filepath, monitor='val_accuracy', verbose=1, save_best_only=True, mode='max')\n",
        "callbacks_list = [checkpoint]\n",
        "\n",
        "history = model.fit(X_train, y_train, epochs=200, batch_size=128, callbacks=callbacks_list, validation_split=0.1)"
      ],
      "execution_count": null,
      "outputs": [
        {
          "output_type": "stream",
          "text": [
            "Epoch 1/200\n",
            "277/277 [==============================] - 16s 47ms/step - loss: 1.0229 - accuracy: 0.0000e+00 - val_loss: 0.9927 - val_accuracy: 0.0000e+00\n",
            "\n",
            "Epoch 00001: val_accuracy improved from -inf to 0.00000, saving model to weights/lstm_model-01-0.0000.hdf5\n",
            "Epoch 2/200\n",
            "277/277 [==============================] - 12s 44ms/step - loss: 0.9928 - accuracy: 0.0000e+00 - val_loss: 0.9927 - val_accuracy: 0.0000e+00\n",
            "\n",
            "Epoch 00002: val_accuracy did not improve from 0.00000\n",
            "Epoch 3/200\n",
            "131/277 [=============>................] - ETA: 6s - loss: 0.9852 - accuracy: 0.0000e+00"
          ],
          "name": "stdout"
        }
      ]
    },
    {
      "cell_type": "code",
      "metadata": {
        "id": "b2gEX6-MPuZY"
      },
      "source": [
        "def plot_loss (history):\r\n",
        "    plt.figure(figsize = (10, 6))\r\n",
        "    plt.plot(history.history['loss'])\r\n",
        "    plt.plot(history.history['val_loss'])\r\n",
        "    plt.ylabel('Loss')\r\n",
        "    plt.xlabel('epoch')\r\n",
        "    plt.legend(['Train loss', 'Validation loss'], loc='upper right')\r\n",
        "plot_loss (history)\r\n"
      ],
      "execution_count": null,
      "outputs": []
    }
  ]
}