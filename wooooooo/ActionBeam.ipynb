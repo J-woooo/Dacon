{
  "nbformat": 4,
  "nbformat_minor": 0,
  "metadata": {
    "accelerator": "GPU",
    "colab": {
      "name": "ActionBeam.ipynb",
      "provenance": [],
      "collapsed_sections": []
    },
    "kernelspec": {
      "display_name": "Python 3",
      "name": "python3"
    }
  },
  "cells": [
    {
      "cell_type": "code",
      "metadata": {
        "id": "x_WBpd-UPuY_"
      },
      "source": [
        "import matplotlib.pyplot as plt\n",
        "import pandas as pd\n",
        "import numpy as np"
      ],
      "execution_count": 1,
      "outputs": []
    },
    {
      "cell_type": "code",
      "metadata": {
        "colab": {
          "base_uri": "https://localhost:8080/",
          "height": 204
        },
        "id": "N1UMf_j2PuZQ",
        "outputId": "d4a311a9-51d4-4e7c-e517-c0a62552a4cb"
      },
      "source": [
        "sun_data = pd.read_csv(\"train.csv\")\n",
        "sun_data.drop(['Day', 'Hour','Minute'], axis='columns', inplace=True)\n",
        "sun_data.head()"
      ],
      "execution_count": 2,
      "outputs": [
        {
          "output_type": "execute_result",
          "data": {
            "text/html": [
              "<div>\n",
              "<style scoped>\n",
              "    .dataframe tbody tr th:only-of-type {\n",
              "        vertical-align: middle;\n",
              "    }\n",
              "\n",
              "    .dataframe tbody tr th {\n",
              "        vertical-align: top;\n",
              "    }\n",
              "\n",
              "    .dataframe thead th {\n",
              "        text-align: right;\n",
              "    }\n",
              "</style>\n",
              "<table border=\"1\" class=\"dataframe\">\n",
              "  <thead>\n",
              "    <tr style=\"text-align: right;\">\n",
              "      <th></th>\n",
              "      <th>DHI</th>\n",
              "      <th>DNI</th>\n",
              "      <th>WS</th>\n",
              "      <th>RH</th>\n",
              "      <th>T</th>\n",
              "      <th>TARGET</th>\n",
              "    </tr>\n",
              "  </thead>\n",
              "  <tbody>\n",
              "    <tr>\n",
              "      <th>0</th>\n",
              "      <td>0</td>\n",
              "      <td>0</td>\n",
              "      <td>1.5</td>\n",
              "      <td>69.08</td>\n",
              "      <td>-12</td>\n",
              "      <td>0.0</td>\n",
              "    </tr>\n",
              "    <tr>\n",
              "      <th>1</th>\n",
              "      <td>0</td>\n",
              "      <td>0</td>\n",
              "      <td>1.5</td>\n",
              "      <td>69.06</td>\n",
              "      <td>-12</td>\n",
              "      <td>0.0</td>\n",
              "    </tr>\n",
              "    <tr>\n",
              "      <th>2</th>\n",
              "      <td>0</td>\n",
              "      <td>0</td>\n",
              "      <td>1.6</td>\n",
              "      <td>71.78</td>\n",
              "      <td>-12</td>\n",
              "      <td>0.0</td>\n",
              "    </tr>\n",
              "    <tr>\n",
              "      <th>3</th>\n",
              "      <td>0</td>\n",
              "      <td>0</td>\n",
              "      <td>1.6</td>\n",
              "      <td>71.75</td>\n",
              "      <td>-12</td>\n",
              "      <td>0.0</td>\n",
              "    </tr>\n",
              "    <tr>\n",
              "      <th>4</th>\n",
              "      <td>0</td>\n",
              "      <td>0</td>\n",
              "      <td>1.6</td>\n",
              "      <td>75.20</td>\n",
              "      <td>-12</td>\n",
              "      <td>0.0</td>\n",
              "    </tr>\n",
              "  </tbody>\n",
              "</table>\n",
              "</div>"
            ],
            "text/plain": [
              "   DHI  DNI   WS     RH   T  TARGET\n",
              "0    0    0  1.5  69.08 -12     0.0\n",
              "1    0    0  1.5  69.06 -12     0.0\n",
              "2    0    0  1.6  71.78 -12     0.0\n",
              "3    0    0  1.6  71.75 -12     0.0\n",
              "4    0    0  1.6  75.20 -12     0.0"
            ]
          },
          "metadata": {
            "tags": []
          },
          "execution_count": 2
        }
      ]
    },
    {
      "cell_type": "code",
      "metadata": {
        "colab": {
          "base_uri": "https://localhost:8080/",
          "height": 204
        },
        "id": "xuVjHa7ePuZT",
        "outputId": "f7d59f40-31f1-4b4e-f497-9733c0dae8c4"
      },
      "source": [
        "sun_data.tail()"
      ],
      "execution_count": 3,
      "outputs": [
        {
          "output_type": "execute_result",
          "data": {
            "text/html": [
              "<div>\n",
              "<style scoped>\n",
              "    .dataframe tbody tr th:only-of-type {\n",
              "        vertical-align: middle;\n",
              "    }\n",
              "\n",
              "    .dataframe tbody tr th {\n",
              "        vertical-align: top;\n",
              "    }\n",
              "\n",
              "    .dataframe thead th {\n",
              "        text-align: right;\n",
              "    }\n",
              "</style>\n",
              "<table border=\"1\" class=\"dataframe\">\n",
              "  <thead>\n",
              "    <tr style=\"text-align: right;\">\n",
              "      <th></th>\n",
              "      <th>DHI</th>\n",
              "      <th>DNI</th>\n",
              "      <th>WS</th>\n",
              "      <th>RH</th>\n",
              "      <th>T</th>\n",
              "      <th>TARGET</th>\n",
              "    </tr>\n",
              "  </thead>\n",
              "  <tbody>\n",
              "    <tr>\n",
              "      <th>52555</th>\n",
              "      <td>0</td>\n",
              "      <td>0</td>\n",
              "      <td>2.4</td>\n",
              "      <td>70.70</td>\n",
              "      <td>-4</td>\n",
              "      <td>0.0</td>\n",
              "    </tr>\n",
              "    <tr>\n",
              "      <th>52556</th>\n",
              "      <td>0</td>\n",
              "      <td>0</td>\n",
              "      <td>2.4</td>\n",
              "      <td>66.79</td>\n",
              "      <td>-4</td>\n",
              "      <td>0.0</td>\n",
              "    </tr>\n",
              "    <tr>\n",
              "      <th>52557</th>\n",
              "      <td>0</td>\n",
              "      <td>0</td>\n",
              "      <td>2.2</td>\n",
              "      <td>66.78</td>\n",
              "      <td>-4</td>\n",
              "      <td>0.0</td>\n",
              "    </tr>\n",
              "    <tr>\n",
              "      <th>52558</th>\n",
              "      <td>0</td>\n",
              "      <td>0</td>\n",
              "      <td>2.1</td>\n",
              "      <td>67.72</td>\n",
              "      <td>-4</td>\n",
              "      <td>0.0</td>\n",
              "    </tr>\n",
              "    <tr>\n",
              "      <th>52559</th>\n",
              "      <td>0</td>\n",
              "      <td>0</td>\n",
              "      <td>2.1</td>\n",
              "      <td>67.70</td>\n",
              "      <td>-4</td>\n",
              "      <td>0.0</td>\n",
              "    </tr>\n",
              "  </tbody>\n",
              "</table>\n",
              "</div>"
            ],
            "text/plain": [
              "       DHI  DNI   WS     RH  T  TARGET\n",
              "52555    0    0  2.4  70.70 -4     0.0\n",
              "52556    0    0  2.4  66.79 -4     0.0\n",
              "52557    0    0  2.2  66.78 -4     0.0\n",
              "52558    0    0  2.1  67.72 -4     0.0\n",
              "52559    0    0  2.1  67.70 -4     0.0"
            ]
          },
          "metadata": {
            "tags": []
          },
          "execution_count": 3
        }
      ]
    },
    {
      "cell_type": "code",
      "metadata": {
        "colab": {
          "base_uri": "https://localhost:8080/"
        },
        "id": "dIewD0V5PuZU",
        "outputId": "c3390939-e47e-40b3-d889-03caae8cbef9"
      },
      "source": [
        "print(1092/7)\n",
        "print(48*7)"
      ],
      "execution_count": 4,
      "outputs": [
        {
          "output_type": "stream",
          "text": [
            "156.0\n",
            "336\n"
          ],
          "name": "stdout"
        }
      ]
    },
    {
      "cell_type": "code",
      "metadata": {
        "colab": {
          "base_uri": "https://localhost:8080/"
        },
        "id": "z-akvMYyPuZU",
        "outputId": "97422fff-4575-4422-a94e-0a47e2066bec"
      },
      "source": [
        "def create_data(data):\n",
        "    data_X, data_Y = [], []\n",
        "#     input_data_X, input_data_Y = [], []\n",
        "    data_X = np.array(sun_data.loc[:, [\"DHI\", \"DNI\", \"WS\", \"RH\", \"T\"]].values)\n",
        "    data_Y = np.array(sun_data.loc[:, [\"TARGET\"]].values)\n",
        "#     for i in range(1092//7):\n",
        "#         input_data_X += data_X[i*(48*7) : (i+1)*(48*7)]\n",
        "#         input_data_Y += data_Y[i*(48*7) : (i+1)*(48*7)]\n",
        "    return data_X, data_Y\n",
        "#     return input_data_X, input_data_Y\n",
        "\n",
        "X, Y = create_data(sun_data)\n",
        "X[:10], Y[:10]"
      ],
      "execution_count": 5,
      "outputs": [
        {
          "output_type": "execute_result",
          "data": {
            "text/plain": [
              "(array([[  0.  ,   0.  ,   1.5 ,  69.08, -12.  ],\n",
              "        [  0.  ,   0.  ,   1.5 ,  69.06, -12.  ],\n",
              "        [  0.  ,   0.  ,   1.6 ,  71.78, -12.  ],\n",
              "        [  0.  ,   0.  ,   1.6 ,  71.75, -12.  ],\n",
              "        [  0.  ,   0.  ,   1.6 ,  75.2 , -12.  ],\n",
              "        [  0.  ,   0.  ,   1.5 ,  69.29, -11.  ],\n",
              "        [  0.  ,   0.  ,   1.5 ,  72.56, -11.  ],\n",
              "        [  0.  ,   0.  ,   1.4 ,  72.55, -11.  ],\n",
              "        [  0.  ,   0.  ,   1.3 ,  74.62, -11.  ],\n",
              "        [  0.  ,   0.  ,   1.3 ,  74.61, -11.  ]]), array([[0.],\n",
              "        [0.],\n",
              "        [0.],\n",
              "        [0.],\n",
              "        [0.],\n",
              "        [0.],\n",
              "        [0.],\n",
              "        [0.],\n",
              "        [0.],\n",
              "        [0.]]))"
            ]
          },
          "metadata": {
            "tags": []
          },
          "execution_count": 5
        }
      ]
    },
    {
      "cell_type": "code",
      "metadata": {
        "colab": {
          "base_uri": "https://localhost:8080/"
        },
        "id": "ayc6uoK0PuZV",
        "outputId": "51498931-4a19-441c-d1a7-73686791ad50"
      },
      "source": [
        "print(len(X), len(Y))\n",
        "print(len(X[0]), len(Y[0]))\n",
        "X.shape, Y.shape"
      ],
      "execution_count": 6,
      "outputs": [
        {
          "output_type": "stream",
          "text": [
            "52560 52560\n",
            "5 1\n"
          ],
          "name": "stdout"
        },
        {
          "output_type": "execute_result",
          "data": {
            "text/plain": [
              "((52560, 5), (52560, 1))"
            ]
          },
          "metadata": {
            "tags": []
          },
          "execution_count": 6
        }
      ]
    },
    {
      "cell_type": "code",
      "metadata": {
        "colab": {
          "base_uri": "https://localhost:8080/"
        },
        "id": "9TGnj3bJPuZW",
        "outputId": "327763b8-8751-44e9-f5ca-82588bb132df"
      },
      "source": [
        "from sklearn.preprocessing import StandardScaler\n",
        "from sklearn.preprocessing import MinMaxScaler\n",
        "\n",
        "# scaler = StandardScaler()\n",
        "# input_scaler = scaler.fit(X)\n",
        "# output_scaler = scaler.fit(Y)\n",
        "# X = input_scaler.transform(X)\n",
        "# Y = output_scaler.transform(Y)\n",
        "\n",
        "scaler = MinMaxScaler(feature_range = (0, 1))\n",
        "input_scaler = scaler.fit(X)\n",
        "output_scaler = scaler.fit(Y)\n",
        "X = input_scaler.transform(X)\n",
        "Y = output_scaler.transform(Y)\n",
        "\n",
        "# X = X.reshape(-1,336,5)\n",
        "# Y = Y.reshape(-1,7,1)\n",
        "X[0], Y[0]"
      ],
      "execution_count": 7,
      "outputs": [
        {
          "output_type": "execute_result",
          "data": {
            "text/plain": [
              "(array([ 0.        ,  0.        ,  0.01501292,  0.69139502, -0.12010336]),\n",
              " array([0.]))"
            ]
          },
          "metadata": {
            "tags": []
          },
          "execution_count": 7
        }
      ]
    },
    {
      "cell_type": "code",
      "metadata": {
        "id": "wLMWO9e4PuZW"
      },
      "source": [
        "from sklearn.model_selection import train_test_split\n",
        "\n",
        "X_train, X_test, y_train, y_test = train_test_split(X, Y)"
      ],
      "execution_count": 8,
      "outputs": []
    },
    {
      "cell_type": "code",
      "metadata": {
        "colab": {
          "base_uri": "https://localhost:8080/"
        },
        "id": "9uXOlL-EPuZX",
        "outputId": "0bc7932b-a641-43ca-b998-e58edb75c771"
      },
      "source": [
        "X_train.shape, y_train.shape, X_test.shape, y_test.shape"
      ],
      "execution_count": 9,
      "outputs": [
        {
          "output_type": "execute_result",
          "data": {
            "text/plain": [
              "((39420, 5), (39420, 1), (13140, 5), (13140, 1))"
            ]
          },
          "metadata": {
            "tags": []
          },
          "execution_count": 9
        }
      ]
    },
    {
      "cell_type": "code",
      "metadata": {
        "id": "6yfOoI2tTAw1"
      },
      "source": [
        "def create_dataset (X, y, time_steps = 1):\r\n",
        "    Xs, ys = [], []\r\n",
        "    for i in range(len(X)-time_steps):\r\n",
        "        v = X[i:i+time_steps, :]\r\n",
        "        Xs.append(v)\r\n",
        "        ys.append(y[i+time_steps])\r\n",
        "    return np.array(Xs), np.array(ys)"
      ],
      "execution_count": 10,
      "outputs": []
    },
    {
      "cell_type": "code",
      "metadata": {
        "id": "-QPeMENNTPoF"
      },
      "source": [
        "X_train, y_train = create_dataset(X_train, y_train, 48)\r\n",
        "X_test, y_test= create_dataset(X_test, y_test, 48)"
      ],
      "execution_count": 11,
      "outputs": []
    },
    {
      "cell_type": "code",
      "metadata": {
        "colab": {
          "base_uri": "https://localhost:8080/"
        },
        "id": "EEp75oAgTnOi",
        "outputId": "9840d36a-b082-4069-aceb-e3953bf531f2"
      },
      "source": [
        "print('X_train.shape: ', X_test.shape)\r\n",
        "print('y_train.shape: ', y_train.shape)\r\n",
        "print('X_test.shape: ', X_test.shape)\r\n",
        "print('y_test.shape: ', y_train.shape)"
      ],
      "execution_count": 12,
      "outputs": [
        {
          "output_type": "stream",
          "text": [
            "X_train.shape:  (13092, 48, 5)\n",
            "y_train.shape:  (39372, 1)\n",
            "X_test.shape:  (13092, 48, 5)\n",
            "y_test.shape:  (39372, 1)\n"
          ],
          "name": "stdout"
        }
      ]
    },
    {
      "cell_type": "code",
      "metadata": {
        "colab": {
          "base_uri": "https://localhost:8080/"
        },
        "id": "f84lD2NIPuZX",
        "outputId": "3a27d376-7630-4a51-8e84-7f03744d455c"
      },
      "source": [
        "#model_1\n",
        "from keras.models import Sequential\n",
        "from keras.optimizers import RMSprop\n",
        "from keras.layers import Dense, Activation, LSTM, Dropout, Bidirectional, GRU\n",
        "from keras.callbacks import ModelCheckpoint\n",
        "\n",
        "model = Sequential()\n",
        "model.add(LSTM(64, dropout=0.3, activation=\"elu\", return_sequences=True, input_shape=[48,5]))\n",
        "model.add(LSTM(64, dropout=0.3, activation=\"elu\"))\n",
        "model.add(Dense(1))\n",
        "optimizer = RMSprop(0.001)\n",
        "model.compile(loss=\"mean_squared_error\", optimizer = optimizer)\n",
        "\n",
        "# filepath = \"weights/\" + \"lstm_model\" + \"-{epoch:02d}-{val_accuracy:.4f}.hdf5\"\n",
        "# checkpoint = ModelCheckpoint(filepath, monitor='val_accuracy', verbose=1, save_best_only=True, mode='max')\n",
        "# callbacks_list = [checkpoint]  /// callbacks=callbacks_list\n",
        "\n",
        "history = model.fit(X_train, y_train, epochs=100, batch_size=128, shuffle=False, validation_split=0.1)"
      ],
      "execution_count": null,
      "outputs": [
        {
          "output_type": "stream",
          "text": [
            "WARNING:tensorflow:Layer lstm will not use cuDNN kernel since it doesn't meet the cuDNN kernel criteria. It will use generic GPU kernel as fallback when running on GPU\n",
            "WARNING:tensorflow:Layer lstm_1 will not use cuDNN kernel since it doesn't meet the cuDNN kernel criteria. It will use generic GPU kernel as fallback when running on GPU\n",
            "Epoch 1/100\n",
            "277/277 [==============================] - 46s 159ms/step - loss: 0.0742 - val_loss: 0.0672\n",
            "Epoch 2/100\n",
            "277/277 [==============================] - 43s 156ms/step - loss: 0.0664 - val_loss: 0.0674\n",
            "Epoch 3/100\n",
            "277/277 [==============================] - 44s 159ms/step - loss: 0.0662 - val_loss: 0.0670\n",
            "Epoch 4/100\n",
            "277/277 [==============================] - 43s 154ms/step - loss: 0.0661 - val_loss: 0.0671\n",
            "Epoch 5/100\n",
            "277/277 [==============================] - 44s 159ms/step - loss: 0.0660 - val_loss: 0.0670\n",
            "Epoch 6/100\n",
            "277/277 [==============================] - 44s 159ms/step - loss: 0.0660 - val_loss: 0.0670\n",
            "Epoch 7/100\n",
            "277/277 [==============================] - 45s 161ms/step - loss: 0.0660 - val_loss: 0.0670\n",
            "Epoch 8/100\n",
            "277/277 [==============================] - 43s 156ms/step - loss: 0.0660 - val_loss: 0.0670\n",
            "Epoch 9/100\n",
            "277/277 [==============================] - 44s 158ms/step - loss: 0.0660 - val_loss: 0.0669\n",
            "Epoch 10/100\n",
            "277/277 [==============================] - 44s 160ms/step - loss: 0.0660 - val_loss: 0.0669\n",
            "Epoch 11/100\n",
            "277/277 [==============================] - 44s 159ms/step - loss: 0.0660 - val_loss: 0.0669\n",
            "Epoch 12/100\n",
            "277/277 [==============================] - 44s 159ms/step - loss: 0.0659 - val_loss: 0.0669\n",
            "Epoch 13/100\n",
            "277/277 [==============================] - 44s 160ms/step - loss: 0.0660 - val_loss: 0.0669\n",
            "Epoch 14/100\n",
            "277/277 [==============================] - 42s 152ms/step - loss: 0.0659 - val_loss: 0.0669\n",
            "Epoch 15/100\n",
            "277/277 [==============================] - 43s 154ms/step - loss: 0.0659 - val_loss: 0.0668\n",
            "Epoch 16/100\n",
            "277/277 [==============================] - 42s 153ms/step - loss: 0.0659 - val_loss: 0.0668\n",
            "Epoch 17/100\n",
            "277/277 [==============================] - 43s 155ms/step - loss: 0.0660 - val_loss: 0.0668\n",
            "Epoch 18/100\n",
            "277/277 [==============================] - 43s 154ms/step - loss: 0.0659 - val_loss: 0.0668\n",
            "Epoch 19/100\n",
            "277/277 [==============================] - 44s 160ms/step - loss: 0.0659 - val_loss: 0.0668\n",
            "Epoch 20/100\n",
            "277/277 [==============================] - 45s 162ms/step - loss: 0.0659 - val_loss: 0.0668\n",
            "Epoch 21/100\n",
            "277/277 [==============================] - 43s 156ms/step - loss: 0.0659 - val_loss: 0.0668\n",
            "Epoch 22/100\n",
            "277/277 [==============================] - 44s 158ms/step - loss: 0.0659 - val_loss: 0.0668\n",
            "Epoch 23/100\n",
            "277/277 [==============================] - 45s 161ms/step - loss: 0.0659 - val_loss: 0.0668\n",
            "Epoch 24/100\n",
            "277/277 [==============================] - 43s 155ms/step - loss: 0.0659 - val_loss: 0.0668\n",
            "Epoch 25/100\n",
            "277/277 [==============================] - 43s 155ms/step - loss: 0.0659 - val_loss: 0.0668\n",
            "Epoch 26/100\n",
            "277/277 [==============================] - 45s 162ms/step - loss: 0.0659 - val_loss: 0.0668\n",
            "Epoch 27/100\n",
            "277/277 [==============================] - 43s 155ms/step - loss: 0.0659 - val_loss: 0.0668\n",
            "Epoch 28/100\n",
            "277/277 [==============================] - 43s 154ms/step - loss: 0.0659 - val_loss: 0.0668\n",
            "Epoch 29/100\n",
            "277/277 [==============================] - 44s 158ms/step - loss: 0.0659 - val_loss: 0.0668\n",
            "Epoch 30/100\n",
            "277/277 [==============================] - 42s 153ms/step - loss: 0.0659 - val_loss: 0.0668\n",
            "Epoch 31/100\n",
            "277/277 [==============================] - 45s 162ms/step - loss: 0.0659 - val_loss: 0.0668\n",
            "Epoch 32/100\n",
            "277/277 [==============================] - 44s 158ms/step - loss: 0.0659 - val_loss: 0.0668\n",
            "Epoch 33/100\n",
            "277/277 [==============================] - 43s 154ms/step - loss: 0.0659 - val_loss: 0.0668\n",
            "Epoch 34/100\n",
            "277/277 [==============================] - 42s 151ms/step - loss: 0.0659 - val_loss: 0.0668\n",
            "Epoch 35/100\n",
            "277/277 [==============================] - 42s 153ms/step - loss: 0.0659 - val_loss: 0.0668\n",
            "Epoch 36/100\n",
            "277/277 [==============================] - 45s 162ms/step - loss: 0.0659 - val_loss: 0.0668\n",
            "Epoch 37/100\n",
            "277/277 [==============================] - 42s 150ms/step - loss: 0.0659 - val_loss: 0.0668\n",
            "Epoch 38/100\n",
            "277/277 [==============================] - 42s 152ms/step - loss: 0.0659 - val_loss: 0.0668\n",
            "Epoch 39/100\n",
            "277/277 [==============================] - 43s 154ms/step - loss: 0.0659 - val_loss: 0.0668\n",
            "Epoch 40/100\n",
            "277/277 [==============================] - 44s 159ms/step - loss: 0.0659 - val_loss: 0.0668\n",
            "Epoch 41/100\n",
            "277/277 [==============================] - 42s 151ms/step - loss: 0.0659 - val_loss: 0.0668\n",
            "Epoch 42/100\n",
            "277/277 [==============================] - 43s 154ms/step - loss: 0.0659 - val_loss: 0.0668\n",
            "Epoch 43/100\n",
            "277/277 [==============================] - 43s 156ms/step - loss: 0.0659 - val_loss: 0.0668\n",
            "Epoch 44/100\n",
            "277/277 [==============================] - 42s 152ms/step - loss: 0.0659 - val_loss: 0.0668\n",
            "Epoch 45/100\n",
            "277/277 [==============================] - 42s 150ms/step - loss: 0.0659 - val_loss: 0.0668\n",
            "Epoch 46/100\n",
            "277/277 [==============================] - 41s 149ms/step - loss: 0.0659 - val_loss: 0.0668\n",
            "Epoch 47/100\n",
            "277/277 [==============================] - 42s 153ms/step - loss: 0.0659 - val_loss: 0.0668\n",
            "Epoch 48/100\n",
            "277/277 [==============================] - 44s 159ms/step - loss: 0.0659 - val_loss: 0.0668\n",
            "Epoch 49/100\n",
            "277/277 [==============================] - 43s 155ms/step - loss: 0.0659 - val_loss: 0.0668\n",
            "Epoch 50/100\n",
            "277/277 [==============================] - 44s 158ms/step - loss: 0.0659 - val_loss: 0.0668\n",
            "Epoch 51/100\n",
            "277/277 [==============================] - 43s 155ms/step - loss: 0.0659 - val_loss: 0.0668\n",
            "Epoch 52/100\n",
            "277/277 [==============================] - 43s 154ms/step - loss: 0.0659 - val_loss: 0.0668\n",
            "Epoch 53/100\n",
            "277/277 [==============================] - 43s 154ms/step - loss: 0.0659 - val_loss: 0.0668\n",
            "Epoch 54/100\n",
            "277/277 [==============================] - 43s 155ms/step - loss: 0.0659 - val_loss: 0.0668\n",
            "Epoch 55/100\n",
            "277/277 [==============================] - 42s 152ms/step - loss: 0.0659 - val_loss: 0.0668\n",
            "Epoch 56/100\n",
            "277/277 [==============================] - 42s 150ms/step - loss: 0.0659 - val_loss: 0.0668\n",
            "Epoch 57/100\n",
            "277/277 [==============================] - 42s 153ms/step - loss: 0.0659 - val_loss: 0.0668\n",
            "Epoch 58/100\n",
            "277/277 [==============================] - 43s 154ms/step - loss: 0.0659 - val_loss: 0.0668\n",
            "Epoch 59/100\n",
            "277/277 [==============================] - 42s 152ms/step - loss: 0.0659 - val_loss: 0.0668\n",
            "Epoch 60/100\n",
            "277/277 [==============================] - 43s 154ms/step - loss: 0.0659 - val_loss: 0.0668\n",
            "Epoch 61/100\n",
            "277/277 [==============================] - 43s 156ms/step - loss: 0.0659 - val_loss: 0.0668\n",
            "Epoch 62/100\n",
            "277/277 [==============================] - 43s 154ms/step - loss: 0.0659 - val_loss: 0.0667\n",
            "Epoch 63/100\n",
            "277/277 [==============================] - 42s 151ms/step - loss: 0.0659 - val_loss: 0.0667\n",
            "Epoch 64/100\n",
            "277/277 [==============================] - 43s 153ms/step - loss: 0.0659 - val_loss: 0.0668\n",
            "Epoch 65/100\n",
            "  3/277 [..............................] - ETA: 36s - loss: 0.0629"
          ],
          "name": "stdout"
        }
      ]
    },
    {
      "cell_type": "code",
      "metadata": {
        "id": "RY9jjAoJdm9R"
      },
      "source": [
        "#model_2\r\n",
        "import keras\r\n",
        "from keras.models import Sequential\r\n",
        "from keras.layers import Dense, Activation, LSTM, Dropout, Bidirectional, GRU\r\n",
        "\r\n",
        "# Create BiLSTM model\r\n",
        "def create_model_bilstm(units):\r\n",
        "    model = Sequential()\r\n",
        "    model.add(Bidirectional(LSTM(64, return_sequences=True), input_shape=(X_train.shape[1], X_train.shape[2])))\r\n",
        "    model.add(Bidirectional(LSTM(units = units)))\r\n",
        "    model.add(Dense(1))\r\n",
        "    #Compile model\r\n",
        "    model.compile(loss='mse', optimizer='adam', metrics=[\"accuracy\"])\r\n",
        "    return model\r\n",
        "\r\n",
        "# Create LSTM or GRU model\r\n",
        "def create_model(units, m):\r\n",
        "    model = Sequential()\r\n",
        "    model.add(m (units = units, return_sequences = True,\r\n",
        "                input_shape = [X_train.shape[1], X_train.shape[2]]))\r\n",
        "    model.add(Dropout(0.2))\r\n",
        "    model.add(m (units = units))\r\n",
        "    model.add(Dropout(0.2))\r\n",
        "    model.add(Dense(units = 1))\r\n",
        "\r\n",
        "    #Compile model\r\n",
        "    model.compile(loss='mse', optimizer='adam', metrics=[\"accuracy\"])\r\n",
        "    return model\r\n",
        "\r\n",
        "# BiLSTM\r\n",
        "model_bilstm = create_model_bilstm(64)\r\n",
        "\r\n",
        "# GRU and LSTM\r\n",
        "model_gru = create_model(64, GRU)\r\n",
        "model_lstm = create_model(64, LSTM)"
      ],
      "execution_count": null,
      "outputs": []
    },
    {
      "cell_type": "code",
      "metadata": {
        "colab": {
          "background_save": true
        },
        "id": "2l7P9tvmeBJS"
      },
      "source": [
        "#model_2_fit\r\n",
        "def fit_model(model):\r\n",
        "    early_stop = keras.callbacks.EarlyStopping(monitor = 'val_loss', patience = 10)\r\n",
        "    history = model.fit(X_train, y_train, epochs = 100, validation_split = 0.2, batch_size = 64,\r\n",
        "                        shuffle = False, callbacks = [early_stop])\r\n",
        "    return history\r\n",
        "history_bilstm = fit_model(model_bilstm)\r\n",
        "history_lstm = fit_model(model_lstm)\r\n",
        "history_gru = fit_model(model_gru)"
      ],
      "execution_count": null,
      "outputs": []
    },
    {
      "cell_type": "code",
      "metadata": {
        "colab": {
          "background_save": true
        },
        "id": "b2gEX6-MPuZY"
      },
      "source": [
        "def plot_loss (history):\r\n",
        "    plt.figure(figsize = (10, 6))\r\n",
        "    plt.plot(history.history['loss'])\r\n",
        "    plt.plot(history.history['val_loss'])\r\n",
        "    plt.ylabel('Loss')\r\n",
        "    plt.xlabel('epoch')\r\n",
        "    plt.legend(['Train loss', 'Validation loss'], loc='upper right')\r\n",
        "plot_loss (history)\r\n"
      ],
      "execution_count": null,
      "outputs": []
    },
    {
      "cell_type": "code",
      "metadata": {
        "id": "TCCMhZcseUHY"
      },
      "source": [
        ""
      ],
      "execution_count": null,
      "outputs": []
    }
  ]
}