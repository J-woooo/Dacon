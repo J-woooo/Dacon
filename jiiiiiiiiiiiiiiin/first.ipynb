{
 "cells": [
  {
   "cell_type": "code",
   "execution_count": 1,
   "metadata": {},
   "outputs": [],
   "source": [
    "import numpy as np\n",
    "import pandas as pd\n",
    "from warnings import filterwarnings\n",
    "filterwarnings('ignore')\n",
    "from IPython.core.interactiveshell import InteractiveShell\n",
    "InteractiveShell.ast_node_interactivity = \"all\"\n",
    "import seaborn as sns\n",
    "import matplotlib.pyplot as plt\n",
    "%matplotlib inline\n",
    "import tensorflow as tf\n",
    "from keras.models import Sequential\n",
    "from keras.layers import Dense, LSTM, Dropout\n",
    "from sklearn.preprocessing import MinMaxScaler\n",
    "from sklearn.model_selection import train_test_split"
   ]
  },
  {
   "cell_type": "code",
   "execution_count": 2,
   "metadata": {},
   "outputs": [
    {
     "data": {
      "text/html": [
       "<div>\n",
       "<style scoped>\n",
       "    .dataframe tbody tr th:only-of-type {\n",
       "        vertical-align: middle;\n",
       "    }\n",
       "\n",
       "    .dataframe tbody tr th {\n",
       "        vertical-align: top;\n",
       "    }\n",
       "\n",
       "    .dataframe thead th {\n",
       "        text-align: right;\n",
       "    }\n",
       "</style>\n",
       "<table border=\"1\" class=\"dataframe\">\n",
       "  <thead>\n",
       "    <tr style=\"text-align: right;\">\n",
       "      <th></th>\n",
       "      <th>DHI</th>\n",
       "      <th>DNI</th>\n",
       "      <th>WS</th>\n",
       "      <th>RH</th>\n",
       "      <th>T</th>\n",
       "      <th>TARGET</th>\n",
       "    </tr>\n",
       "  </thead>\n",
       "  <tbody>\n",
       "    <tr>\n",
       "      <th>52555</th>\n",
       "      <td>0</td>\n",
       "      <td>0</td>\n",
       "      <td>2.4</td>\n",
       "      <td>70.70</td>\n",
       "      <td>-4</td>\n",
       "      <td>0.0</td>\n",
       "    </tr>\n",
       "    <tr>\n",
       "      <th>52556</th>\n",
       "      <td>0</td>\n",
       "      <td>0</td>\n",
       "      <td>2.4</td>\n",
       "      <td>66.79</td>\n",
       "      <td>-4</td>\n",
       "      <td>0.0</td>\n",
       "    </tr>\n",
       "    <tr>\n",
       "      <th>52557</th>\n",
       "      <td>0</td>\n",
       "      <td>0</td>\n",
       "      <td>2.2</td>\n",
       "      <td>66.78</td>\n",
       "      <td>-4</td>\n",
       "      <td>0.0</td>\n",
       "    </tr>\n",
       "    <tr>\n",
       "      <th>52558</th>\n",
       "      <td>0</td>\n",
       "      <td>0</td>\n",
       "      <td>2.1</td>\n",
       "      <td>67.72</td>\n",
       "      <td>-4</td>\n",
       "      <td>0.0</td>\n",
       "    </tr>\n",
       "    <tr>\n",
       "      <th>52559</th>\n",
       "      <td>0</td>\n",
       "      <td>0</td>\n",
       "      <td>2.1</td>\n",
       "      <td>67.70</td>\n",
       "      <td>-4</td>\n",
       "      <td>0.0</td>\n",
       "    </tr>\n",
       "  </tbody>\n",
       "</table>\n",
       "</div>"
      ],
      "text/plain": [
       "       DHI  DNI   WS     RH  T  TARGET\n",
       "52555    0    0  2.4  70.70 -4     0.0\n",
       "52556    0    0  2.4  66.79 -4     0.0\n",
       "52557    0    0  2.2  66.78 -4     0.0\n",
       "52558    0    0  2.1  67.72 -4     0.0\n",
       "52559    0    0  2.1  67.70 -4     0.0"
      ]
     },
     "execution_count": 2,
     "metadata": {},
     "output_type": "execute_result"
    },
    {
     "data": {
      "text/plain": [
       "(52560, 6)"
      ]
     },
     "execution_count": 2,
     "metadata": {},
     "output_type": "execute_result"
    }
   ],
   "source": [
    "sun_data = pd.read_csv(\"../data/train/train.csv\")\n",
    "sun_data.drop(['Day', 'Hour','Minute'], axis='columns', inplace=True)\n",
    "sun_data.tail()\n",
    "sun_data.shape"
   ]
  },
  {
   "cell_type": "code",
   "execution_count": 5,
   "metadata": {},
   "outputs": [
    {
     "data": {
      "text/plain": [
       "(52560, 6)"
      ]
     },
     "execution_count": 5,
     "metadata": {},
     "output_type": "execute_result"
    }
   ],
   "source": [
    "sun_data.shape"
   ]
  },
  {
   "cell_type": "code",
   "execution_count": 6,
   "metadata": {},
   "outputs": [
    {
     "data": {
      "text/plain": [
       "(array([[  0.  ,   0.  ,   1.5 ,  69.08, -12.  ],\n",
       "        [  0.  ,   0.  ,   1.5 ,  69.06, -12.  ],\n",
       "        [  0.  ,   0.  ,   1.6 ,  71.78, -12.  ],\n",
       "        [  0.  ,   0.  ,   1.6 ,  71.75, -12.  ],\n",
       "        [  0.  ,   0.  ,   1.6 ,  75.2 , -12.  ],\n",
       "        [  0.  ,   0.  ,   1.5 ,  69.29, -11.  ],\n",
       "        [  0.  ,   0.  ,   1.5 ,  72.56, -11.  ],\n",
       "        [  0.  ,   0.  ,   1.4 ,  72.55, -11.  ],\n",
       "        [  0.  ,   0.  ,   1.3 ,  74.62, -11.  ],\n",
       "        [  0.  ,   0.  ,   1.3 ,  74.61, -11.  ]]),\n",
       " array([[0.],\n",
       "        [0.],\n",
       "        [0.],\n",
       "        [0.],\n",
       "        [0.],\n",
       "        [0.],\n",
       "        [0.],\n",
       "        [0.],\n",
       "        [0.],\n",
       "        [0.]]))"
      ]
     },
     "execution_count": 6,
     "metadata": {},
     "output_type": "execute_result"
    }
   ],
   "source": [
    "def create_data(data):\n",
    "    data_X, data_Y = [], []\n",
    "#     input_data_X, input_data_Y = [], []\n",
    "    data_X = np.array(sun_data.loc[:, [\"DHI\", \"DNI\", \"WS\", \"RH\", \"T\"]].values)\n",
    "    data_Y = np.array(sun_data.loc[:, [\"TARGET\"]].values)\n",
    "#     for i in range(1092//7):\n",
    "#         input_data_X += data_X[i*(48*7) : (i+1)*(48*7)]\n",
    "#         input_data_Y += data_Y[i*(48*7) : (i+1)*(48*7)]\n",
    "    return data_X, data_Y\n",
    "#     return input_data_X, input_data_Y\n",
    "\n",
    "X, Y = create_data(sun_data)\n",
    "X[:10], Y[:10]"
   ]
  },
  {
   "cell_type": "code",
   "execution_count": 7,
   "metadata": {},
   "outputs": [
    {
     "data": {
      "text/plain": [
       "numpy.ndarray"
      ]
     },
     "execution_count": 7,
     "metadata": {},
     "output_type": "execute_result"
    }
   ],
   "source": [
    "type(X)"
   ]
  },
  {
   "cell_type": "code",
   "execution_count": 8,
   "metadata": {},
   "outputs": [
    {
     "data": {
      "text/plain": [
       "(array([ 0.        ,  0.        ,  0.01501292,  0.69139502, -0.12010336]),\n",
       " array([0.]))"
      ]
     },
     "execution_count": 8,
     "metadata": {},
     "output_type": "execute_result"
    }
   ],
   "source": [
    "from sklearn.preprocessing import StandardScaler\n",
    "from sklearn.preprocessing import MinMaxScaler\n",
    "\n",
    "# scaler = StandardScaler()\n",
    "# input_scaler = scaler.fit(X)\n",
    "# output_scaler = scaler.fit(Y)\n",
    "# X = input_scaler.transform(X)\n",
    "# Y = output_scaler.transform(Y)\n",
    "\n",
    "scaler = MinMaxScaler(feature_range = (0, 1))\n",
    "input_scaler = scaler.fit(X)\n",
    "output_scaler = scaler.fit(Y)\n",
    "X = input_scaler.transform(X)\n",
    "Y = output_scaler.transform(Y)\n",
    "\n",
    "# X = X.reshape(-1,336,5)\n",
    "# Y = Y.reshape(-1,7,1)\n",
    "X[0], Y[0]"
   ]
  },
  {
   "cell_type": "code",
   "execution_count": null,
   "metadata": {},
   "outputs": [],
   "source": []
  }
 ],
 "metadata": {
  "kernelspec": {
   "display_name": "Python 3",
   "language": "python",
   "name": "python3"
  },
  "language_info": {
   "codemirror_mode": {
    "name": "ipython",
    "version": 3
   },
   "file_extension": ".py",
   "mimetype": "text/x-python",
   "name": "python",
   "nbconvert_exporter": "python",
   "pygments_lexer": "ipython3",
   "version": "3.8.1"
  }
 },
 "nbformat": 4,
 "nbformat_minor": 4
}
