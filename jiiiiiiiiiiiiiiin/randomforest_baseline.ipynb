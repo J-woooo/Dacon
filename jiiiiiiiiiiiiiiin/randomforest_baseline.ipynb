{
 "cells": [
  {
   "cell_type": "code",
   "execution_count": 47,
   "metadata": {},
   "outputs": [],
   "source": [
    "import pandas as pd\n",
    "import numpy as np\n",
    "import matplotlib.pyplot as plt\n",
    "import math\n",
    "\n",
    "train = pd.read_csv('../data/train/train.csv')\n",
    "train['DNI'] = train['DNI']*math.cos(math.pi/180*63)+train['DHI']\n",
    "submission = pd.read_csv('../data/sample_submission.csv')\n",
    "submission.set_index('id',inplace=True)"
   ]
  },
  {
   "cell_type": "code",
   "execution_count": 4,
   "metadata": {},
   "outputs": [
    {
     "data": {
      "text/plain": [
       "count    52560.000000\n",
       "mean        64.344121\n",
       "std        103.897125\n",
       "min          0.000000\n",
       "25%          0.000000\n",
       "50%          0.000000\n",
       "75%         87.000000\n",
       "max        528.000000\n",
       "Name: DHI, dtype: float64"
      ]
     },
     "execution_count": 4,
     "metadata": {},
     "output_type": "execute_result"
    }
   ],
   "source": [
    "train['DHI'].describe()"
   ]
  },
  {
   "cell_type": "code",
   "execution_count": 5,
   "metadata": {},
   "outputs": [
    {
     "data": {
      "text/plain": [
       "count    52560.000000\n",
       "mean       234.792371\n",
       "std        349.684583\n",
       "min          0.000000\n",
       "25%          0.000000\n",
       "50%          0.000000\n",
       "75%        469.000000\n",
       "max       1059.000000\n",
       "Name: DNI, dtype: float64"
      ]
     },
     "execution_count": 5,
     "metadata": {},
     "output_type": "execute_result"
    }
   ],
   "source": [
    "train['DNI'].describe()"
   ]
  },
  {
   "cell_type": "code",
   "execution_count": 50,
   "metadata": {},
   "outputs": [],
   "source": [
    "def transform(dataset, target, start_index, end_index, history_size,\n",
    "                      target_size, step):\n",
    "    data = []\n",
    "    labels = []\n",
    "    start_index = start_index + history_size\n",
    "    if end_index is None:\n",
    "        end_index = len(dataset) - target_size\n",
    "    for i in range(start_index, end_index, 48):\n",
    "        indices = range(i-history_size, i, step)\n",
    "        data.append(np.ravel(dataset[indices].T))\n",
    "        labels.append(target[i:i+target_size])\n",
    "    data = np.array(data)\n",
    "    labels = np.array(labels)\n",
    "    return data, labels\n",
    "\n",
    "# x_col =['WS','RH','T','TARGET','GHI']\n",
    "x_col = ['DNI','WS', 'RH', 'T', 'TARGET']\n",
    "# x_col =['TARGET']\n",
    "y_col = ['TARGET']\n",
    "# train['GHI'] = train['DNI']*math.cos(math.pi/180*63)+train['DHI']\n",
    "dataset = train.loc[:,x_col].values\n",
    "label = np.ravel(train.loc[:,y_col].values)\n",
    "\n",
    "past_history = 48 * 2\n",
    "future_target = 48 * 2\n",
    "\n",
    "### transform train\n",
    "train_data, train_label = transform(dataset, label, 0, None, past_history,future_target, 1)\n",
    "### transform test\n",
    "test = []\n",
    "for i in range(81):\n",
    "    data = []\n",
    "    tmp = pd.read_csv(f'../data/test/{i}.csv')\n",
    "    tmp = tmp.loc[:, x_col].values\n",
    "    tmp = tmp[-past_history:,:]\n",
    "    data.append(np.ravel(tmp.T))\n",
    "    data = np.array(data)\n",
    "    test.append(data)\n",
    "test = np.concatenate(test, axis=0)"
   ]
  },
  {
   "cell_type": "code",
   "execution_count": 7,
   "metadata": {},
   "outputs": [],
   "source": [
    "train_data = np.nan_to_num(train_data)"
   ]
  },
  {
   "cell_type": "code",
   "execution_count": 8,
   "metadata": {},
   "outputs": [
    {
     "data": {
      "text/plain": [
       "(1091, 576)"
      ]
     },
     "execution_count": 8,
     "metadata": {},
     "output_type": "execute_result"
    }
   ],
   "source": [
    "train_data.shape"
   ]
  },
  {
   "cell_type": "code",
   "execution_count": 9,
   "metadata": {},
   "outputs": [
    {
     "data": {
      "text/plain": [
       "(1091, 96)"
      ]
     },
     "execution_count": 9,
     "metadata": {},
     "output_type": "execute_result"
    }
   ],
   "source": [
    "train_label.shape"
   ]
  },
  {
   "cell_type": "code",
   "execution_count": 18,
   "metadata": {},
   "outputs": [
    {
     "data": {
      "text/plain": [
       "[0.9538077268838671,\n",
       " 0.9548994252137358,\n",
       " 0.9555541959149253,\n",
       " 0.9559213662782423,\n",
       " 0.9564385098671956,\n",
       " 0.9564775882113533,\n",
       " 0.9565560721204888,\n",
       " 0.9568099672865769,\n",
       " 0.9569521136649771,\n",
       " 0.9569444392312075,\n",
       " 0.9570400610288204,\n",
       " 0.9572020071138879,\n",
       " 0.9571551634664944,\n",
       " 0.957221624614968,\n",
       " 0.9574053976248523,\n",
       " 0.9572366390280167,\n",
       " 0.9573778159040539,\n",
       " 0.9574155618099676,\n",
       " 0.9573215529180678,\n",
       " 0.9574241429902998]"
      ]
     },
     "execution_count": 18,
     "metadata": {},
     "output_type": "execute_result"
    }
   ],
   "source": [
    "features"
   ]
  },
  {
   "cell_type": "code",
   "execution_count": 17,
   "metadata": {},
   "outputs": [
    {
     "data": {
      "image/png": "[encoded data removed]",
      "text/plain": [
       "<Figure size 432x288 with 1 Axes>"
      ]
     },
     "metadata": {
      "needs_background": "light"
     },
     "output_type": "display_data"
    },
    {
     "name": "stdout",
     "output_type": "stream",
     "text": [
      "[0.9538077268838671, 0.9548994252137358, 0.9555541959149253, 0.9559213662782423, 0.9564385098671956, 0.9564775882113533, 0.9565560721204888, 0.9568099672865769, 0.9569521136649771, 0.9569444392312075, 0.9570400610288204, 0.9572020071138879, 0.9571551634664944, 0.957221624614968, 0.9574053976248523, 0.9572366390280167, 0.9573778159040539, 0.9574155618099676, 0.9573215529180678, 0.9574241429902998]\n"
     ]
    }
   ],
   "source": [
    "x = np.arange(1,21)\n",
    "plt.xlabel(\"features\")\n",
    "plt.ylabel(\"accuracy\")\n",
    "plt.plot(x,features)\n",
    "plt.show()\n",
    "print(features)"
   ]
  },
  {
   "cell_type": "code",
   "execution_count": null,
   "metadata": {},
   "outputs": [],
   "source": [
    "# feature testing = 15\n",
    "from sklearn import ensemble\n",
    "features = []\n",
    "N_ESTIMATORS = 1000\n",
    "for i in range(1,21):\n",
    "    rf = ensemble.RandomForestRegressor(n_estimators=N_ESTIMATORS,\n",
    "                                    max_features=i, random_state=0,\n",
    "                                    max_depth = 20,\n",
    "                                    verbose=True,\n",
    "                                    n_jobs=-1)\n",
    "    rf.fit(train_data, train_label)\n",
    "    features.append(rf.score(train_data, train_label))"
   ]
  },
  {
   "cell_type": "code",
   "execution_count": 36,
   "metadata": {},
   "outputs": [
    {
     "data": {
      "image/png": "[encoded data removed]",
      "text/plain": [
       "<Figure size 432x288 with 1 Axes>"
      ]
     },
     "metadata": {
      "needs_background": "light"
     },
     "output_type": "display_data"
    }
   ],
   "source": [
    "x = np.arange(0,20)\n",
    "plt.xlabel(\"depth\")\n",
    "plt.ylabel(\"accuracy\")\n",
    "plt.plot(x,depth)\n",
    "plt.show()"
   ]
  },
  {
   "cell_type": "code",
   "execution_count": 38,
   "metadata": {},
   "outputs": [
    {
     "name": "stdout",
     "output_type": "stream",
     "text": [
      "0 0.603252531499008\n",
      "1 0.660501882103233\n",
      "2 0.686093525425425\n",
      "3 0.7063992480255471\n",
      "4 0.7300106671168386\n",
      "5 0.7576105518733333\n",
      "6 0.7885928334832691\n",
      "7 0.821641344680477\n",
      "8 0.8526681480801258\n",
      "9 0.8796617636717631\n",
      "10 0.902107230142812\n",
      "11 0.9209848595033495\n",
      "12 0.9335679167448588\n",
      "13 0.9423239389621626\n",
      "14 0.9480615780109337\n",
      "15 0.9519900964778566\n",
      "16 0.9546399960838304\n",
      "17 0.9558844630022175\n",
      "18 0.9569248835771029\n",
      "19 0.9574241429902998\n"
     ]
    }
   ],
   "source": [
    "for i in range(0,20):\n",
    "    print(i, depth[i])"
   ]
  },
  {
   "cell_type": "code",
   "execution_count": null,
   "metadata": {},
   "outputs": [],
   "source": [
    "# max_depth test = 20\n",
    "depth = []\n",
    "N_ESTIMATORS = 1000\n",
    "for i in range(1,21):\n",
    "    rf = ensemble.RandomForestRegressor(n_estimators=N_ESTIMATORS,\n",
    "                                    max_features=20, random_state=0,\n",
    "                                    max_depth = i,\n",
    "                                    verbose=True,\n",
    "                                    n_jobs=-1)\n",
    "    rf.fit(train_data, train_label)\n",
    "    print(rf.score(train_data, train_label))\n",
    "    depth.append(rf.score(train_data, train_label))"
   ]
  },
  {
   "cell_type": "code",
   "execution_count": 42,
   "metadata": {},
   "outputs": [
    {
     "data": {
      "image/png": "[encoded data removed]",
      "text/plain": [
       "<Figure size 432x288 with 1 Axes>"
      ]
     },
     "metadata": {
      "needs_background": "light"
     },
     "output_type": "display_data"
    }
   ],
   "source": [
    "x = np.arange(10)\n",
    "plt.xlabel(\"estimator\")\n",
    "plt.ylabel(\"accuracy\")\n",
    "plt.plot(x,estimator)\n",
    "plt.show()"
   ]
  },
  {
   "cell_type": "code",
   "execution_count": 41,
   "metadata": {},
   "outputs": [
    {
     "data": {
      "text/plain": [
       "[0.9574053976248523,\n",
       " 0.9574819444457304,\n",
       " 0.9575179871033267,\n",
       " 0.9575615049480733,\n",
       " 0.9575810625633162,\n",
       " 0.957547334918521,\n",
       " 0.957481828585963,\n",
       " 0.9575152069284435,\n",
       " 0.9575248270284296,\n",
       " 0.9575125189298781]"
      ]
     },
     "execution_count": 41,
     "metadata": {},
     "output_type": "execute_result"
    }
   ],
   "source": [
    "estimator"
   ]
  },
  {
   "cell_type": "code",
   "execution_count": null,
   "metadata": {},
   "outputs": [],
   "source": [
    "# estimator test = 1500\n",
    "estimator = []\n",
    "# N_ESTIMATORS = 1000\n",
    "for i in range(1000,2000,100):\n",
    "    rf = ensemble.RandomForestRegressor(n_estimators=i,\n",
    "                                    max_features=15, random_state=0,\n",
    "                                    max_depth = 20,\n",
    "                                    verbose=True,\n",
    "                                    n_jobs=-1)\n",
    "    rf.fit(train_data, train_label)\n",
    "    print(rf.score(train_data, train_label))\n",
    "    estimator.append(rf.score(train_data, train_label))"
   ]
  },
  {
   "cell_type": "code",
   "execution_count": 51,
   "metadata": {},
   "outputs": [
    {
     "name": "stderr",
     "output_type": "stream",
     "text": [
      "[Parallel(n_jobs=-1)]: Using backend ThreadingBackend with 8 concurrent workers.\n",
      "[Parallel(n_jobs=-1)]: Done  34 tasks      | elapsed:    0.3s\n",
      "[Parallel(n_jobs=-1)]: Done 184 tasks      | elapsed:    1.6s\n",
      "[Parallel(n_jobs=-1)]: Done 434 tasks      | elapsed:    3.8s\n",
      "[Parallel(n_jobs=-1)]: Done 784 tasks      | elapsed:    8.7s\n",
      "[Parallel(n_jobs=-1)]: Done 1234 tasks      | elapsed:   14.4s\n",
      "[Parallel(n_jobs=-1)]: Done 1500 out of 1500 | elapsed:   17.8s finished\n"
     ]
    },
    {
     "name": "stdout",
     "output_type": "stream",
     "text": [
      "Clear\n"
     ]
    }
   ],
   "source": [
    "# real modeling\n",
    "from sklearn import ensemble\n",
    "N_ESTIMATORS = 1500\n",
    "rf = ensemble.RandomForestRegressor(n_estimators=N_ESTIMATORS,\n",
    "                                    max_features=15, random_state=0,\n",
    "                                    max_depth = 20,\n",
    "                                    verbose=True,\n",
    "                                    n_jobs=-1)\n",
    "rf.fit(train_data, train_label)\n",
    "print(\"Clear\")\n",
    "rf_preds = []\n",
    "for estimator in rf.estimators_:\n",
    "#     print(estimator.predict(test).dtype)\n",
    "    result = estimator.predict(test).astype(np.float64)\n",
    "    rf_preds.append(result)\n",
    "rf_preds = np.array(rf_preds)\n",
    "\n",
    "for i, q in enumerate(np.arange(0.1, 1, 0.1)):\n",
    "    y_pred = np.percentile(rf_preds, q * 100, axis=0)\n",
    "    submission.iloc[:, i] = np.ravel(y_pred)"
   ]
  },
  {
   "cell_type": "code",
   "execution_count": 52,
   "metadata": {},
   "outputs": [],
   "source": [
    "submission.to_csv(f'GHI.csv')"
   ]
  },
  {
   "cell_type": "code",
   "execution_count": 11,
   "metadata": {},
   "outputs": [
    {
     "data": {
      "text/plain": [
       "(1091, 96)"
      ]
     },
     "execution_count": 11,
     "metadata": {},
     "output_type": "execute_result"
    }
   ],
   "source": [
    "train_label.shape"
   ]
  },
  {
   "cell_type": "code",
   "execution_count": 12,
   "metadata": {},
   "outputs": [
    {
     "data": {
      "text/plain": [
       "(1091, 96)"
      ]
     },
     "execution_count": 12,
     "metadata": {},
     "output_type": "execute_result"
    }
   ],
   "source": [
    "train_data.shape"
   ]
  },
  {
   "cell_type": "code",
   "execution_count": null,
   "metadata": {},
   "outputs": [],
   "source": []
  }
 ],
 "metadata": {
  "kernelspec": {
   "display_name": "Python 3",
   "language": "python",
   "name": "python3"
  },
  "language_info": {
   "codemirror_mode": {
    "name": "ipython",
    "version": 3
   },
   "file_extension": ".py",
   "mimetype": "text/x-python",
   "name": "python",
   "nbconvert_exporter": "python",
   "pygments_lexer": "ipython3",
   "version": "3.8.1"
  }
 },
 "nbformat": 4,
 "nbformat_minor": 4
}
